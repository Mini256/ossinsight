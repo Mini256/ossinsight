{
 "cells": [
  {
   "cell_type": "markdown",
   "metadata": {},
   "source": [
    "# Mini OSS Insight Workshop\n",
    "\n",
    "👏 欢迎来到 Mini OSS Insight 的 Workshop!\n",
    "\n",
    "这是关于 Workshop 的完整指南，你可以通过阅读该指南一步一步地搭建起一个 Mini 版的 OSS Insight，并在过程掌握一些使用 TiDB / TiDB Cloud 进行数据分析的技巧。"
   ]
  },
  {
   "cell_type": "markdown",
   "metadata": {
    "slideshow": {
     "slide_type": "slide"
    }
   },
   "source": [
    "## 准备\n",
    "\n",
    "在开始之前，你需要确保在你的开发环境中已经安装了以下软件/工具：\n",
    "\n",
    "- GitHub 账号 - 用于访问 GitHub API 获取 events 数据\n",
    "- GitHub Codespaces 开发环境 - 本教程通过 [GitHub Codespaces](https://github.com/codespaces) 准备开发环境\n",
    "- 可供连接的 TiDB 集群 - 用于存储 events 数据以及通过 SQL 语句进行数据分析\n",
    "- MyCLI - 连接到 TiDB 集群\n",
    "- Python 3.x and pip - Jupyter Notebook 需要的运行时环境\n",
    "\n",
    "> **注意**\n",
    "> \n",
    "> 在开始后续步骤之前，请在 [pingcap/ossinsight](https://github.com/pingcap/ossinsight) 仓库页面的右上角点击 Fork 按钮来创建你的 Fork 仓库，然后点击 “Code” > “New with Options” 按钮来创建你的 Codespaces 开发环境，以便在后续的步骤当中你有足够的权限修改 Github Codespaces Secrets。\n",
    "> "
   ]
  },
  {
   "cell_type": "markdown",
   "metadata": {},
   "source": [
    "### 1. 创建 Personal Access Token\n",
    "\n",
    "> **Note**\n",
    ">\n",
    "> 如果你使用 GitHub Codespaces 来操作该指南, 你可以跳过下面的步骤，因为在 Codespaces [默认的环境变量](https://docs.github.com/en/codespaces/developing-in-codespaces/default-environment-variables-for-your-codespace)当中已经包含了 `GITHUB_TOKEN` 变量。\n",
    ">  \n",
    "\n",
    "在登录到你的 GitHub 账号之后，你可以在个人设置页面[创建一个新的 Personal Access Token](https://github.com/settings/personal-access-tokens/new)，在后续步骤当中将使用该 Token 来访问 GitHub API。\n",
    "\n",
    "<center>\n",
    "  <img align=\"middle\" width=\"800\" alt=\"Create a New GitHub Personal Access Token\" src=\"https://user-images.githubusercontent.com/5086433/204564273-93cccbe4-d10a-4d1b-a9d1-112a1144712a.png\">\n",
    "  <p><i>创建一个新的 Personal Access Token</i></p>\n",
    "</center>\n"
   ]
  },
  {
   "cell_type": "markdown",
   "metadata": {},
   "source": [
    "### 2. 准备 TiDB 集群\n",
    "\n",
    "你需要开启一个 TiDB 集群。你可以通过查看文档 [TiDB Cloud Quick Start](https://docs.pingcap.com/tidbcloud/tidb-cloud-quickstart#step-1-create-a-tidb-cluster) 文档学习如何创建一个 **Serverless tier** 集群，这可能会需要 20～25s 的时间。\n",
    "\n",
    "在你创建完集群，你可以进入到集群的详情页。在这个页面，你可以在 **Connection** 面板中找到数据库集群的连接信息。\n",
    "\n",
    "<center>\n",
    "  <img align=\"middle\" width=\"800\" alt=\"Serverless Tier Cluster Manage Interface\" src=\"https://user-images.githubusercontent.com/5086433/204476069-0ddbdf6f-419c-4291-b929-ccfbd2f5ea5f.png\">\n",
    "  <p><i>Serverless Tier 集群管理界面</i></p>\n",
    "</center>\n",
    "\n",
    "你可以通过点开集群详情页右上角的集群修改菜单，点击其中的 “Security Settings” 按钮进入到安全设置窗口，在该窗口上点击 “Generate” 按钮来生成 root 用户密码。\n",
    "\n",
    "<center>\n",
    "  <img width=\"480\" alt=\"The Cluster Modify Menu\" src=\"https://user-images.githubusercontent.com/85985765/204876779-3a4c6ac4-8814-47cd-b82a-40eb5e4d8f96.png\">\n",
    "  <p><i>TiDB Cloud 集群修改菜单</i></p>\n",
    "</center>\n",
    "\n",
    "<center>\n",
    "  <img width=\"720\" alt=\"Security Settings\" src=\"https://user-images.githubusercontent.com/85985765/204877348-5c3e9012-f7bf-42e9-8a03-fd9f14bfc826.png\">\n",
    "  <p><i>TiDB Cloud 集群安全设置窗口</i></p>\n",
    "</center>\n"
   ]
  },
  {
   "cell_type": "markdown",
   "metadata": {},
   "source": [
    "### 3. 设置环境变量\n",
    "\n",
    "点击代码块左侧的执行按钮，运行下面的 Python 代码块。这段代码块将会一步一步引导你将上面准备的数据库连接信息配置到环境变量当中以便后续步骤使用。"
   ]
  },
  {
   "cell_type": "code",
   "execution_count": null,
   "metadata": {},
   "outputs": [],
   "source": [
    "# ← Execute the follwoing script to load environment variable.\n",
    "import getpass\n",
    "import os\n",
    "\n",
    "github_user = os.getenv(\"GITHUB_USER\")\n",
    "github_repo = os.getenv(\"GITHUB_REPOSITORY\")\n",
    "if (github_user in github_repo) is False:\n",
    "    print(\"You must run the script in your fork repository.\")\n",
    "    exit();\n",
    "\n",
    "api_server_dot_env=\"./packages/api-server/.env\"\n",
    "if os.path.exists(api_server_dot_env): \n",
    "    con = input(api_server_dot_env + \" file already exists, do you want to overwrite it? (y/n) [y]\")\n",
    "    if con != 'y':\n",
    "        exit();\n",
    "\n",
    "# Config GitHub personal access token.\n",
    "github_token = \"\"\n",
    "if os.getenv('GITHUB_TOKEN') is None:\n",
    "    github_token = getpass.getpass(prompt='Enter your personal access token of GitHub: ')\n",
    "else:\n",
    "    github_token = os.getenv('GITHUB_TOKEN')\n",
    "\n",
    "# Config database connection.\n",
    "db_endpoint = input(\"The endpoint of TiDB cluster: \")\n",
    "db_port = input(\"The port of TiDB cluster [4000]: \")\n",
    "\n",
    "if db_port == \"\":\n",
    "    db_port = \"4000\"\n",
    "\n",
    "db_username = input(\"The username of TiDB cluster: \")\n",
    "db_password = getpass.getpass(prompt='Enter the password of TiDB cluster: ')\n",
    "db_name = \"ossinsight\"\n",
    "db_enable_ssl = input(\"Enable ssl connection to the TiDB cluster? (y/n) [y]\") or \"y\"\n",
    "db_ssl_config='&ssl={\"minVersion\":\"TLSv1.2\"}'\n",
    "if db_enable_ssl == \"n\":\n",
    "    db_ssl_config = \"\"\n",
    "\n",
    "api_database_url = \"mysql://{}:{}@{}:{}/{}?connectionLimit=100&queueLimit=10000{}\\n\".format(\n",
    "    db_username, db_password, db_endpoint, db_port, db_name, db_ssl_config\n",
    ")\n",
    "\n",
    "etl_database_url = \"tidb://{}:{}@{}:{}/{}\".format(\n",
    "    db_username, db_password, db_endpoint, db_port, db_name\n",
    ")\n",
    "\n",
    "os.system(f\"gh secret set DB_ENDPOINT --body {db_endpoint} -a codespaces --repo {github_repo}\")\n",
    "os.system(f\"gh secret set DB_PORT --body {db_port} -a codespaces --repo {github_repo}\")\n",
    "os.system(f\"gh secret set DB_USERNAME --body {db_username} -a codespaces --repo {github_repo}\")\n",
    "os.system(f\"gh secret set DB_PASSWORD --body {db_password} -a codespaces --repo {github_repo}\")\n",
    "os.system(f\"gh secret set DB_NAME --body {db_name} -a codespaces --repo {github_repo}\")\n",
    "os.system(f\"gh secret set DB_ENABLE_SSL --body {db_enable_ssl} -a codespaces --repo {github_repo}\")\n",
    "os.system(f\"gh secret set API_DATABASE_URL --body {api_database_url} -a codespaces --repo {github_repo}\")\n",
    "os.system(f\"gh secret set ETL_DATABASE_URL --body {etl_database_url} -a codespaces --repo {github_repo}\")\n",
    "\n",
    "# Write to ./packages/api-server/.env file.\n",
    "with open(api_server_dot_env, \"w\") as file:\n",
    "    file.write(\n",
    "        \"DATABASE_URL={}\".format(api_database_url)\n",
    "    )\n",
    "    file.write(\"ENABLE_CACHE=false\\n\")\n",
    "    file.write(\"GITHUB_ACCESS_TOKENS={}\\n\".format(github_token))\n",
    "\n",
    "print(\"Setup successfully!\")"
   ]
  },
  {
   "cell_type": "markdown",
   "metadata": {},
   "source": [
    "### 4. 验证是否能够连接到 TiDB 集群\n",
    "\n",
    "上执行下面的 SQL 语句验证是否能够连接到 TiDB 集群:"
   ]
  },
  {
   "cell_type": "code",
   "execution_count": null,
   "metadata": {},
   "outputs": [],
   "source": [
    "!mycli -h ${DB_ENDPOINT} -P ${DB_PORT} -u ${DB_USERNAME} -p ${DB_PASSWORD} -D ${DB_NAME} \\\n",
    "    --ssl-ca=/etc/ssl/certs/ca-certificates.crt \\\n",
    "    --ssl-verify-server-cert \\\n",
    "     -e 'SELECT tidb_version()\\G'"
   ]
  },
  {
   "cell_type": "markdown",
   "metadata": {},
   "source": [
    "如果成功执行，你会看到 TiDB 集群的版本信息。"
   ]
  },
  {
   "cell_type": "markdown",
   "metadata": {},
   "source": [
    "## 导入数据\n",
    "\n",
    "通过 [GitHub 的 API 文档](https://docs.github.com/en/rest/activity/events), 我们知道可以通过请求 `/events` API 来 GitHub 上所有公开仓库的公开事件数据，这个数据的推送是准实时的，GitHub 设定的 5 分钟的延迟。\n",
    "\n",
    "你可以执行下面的命令查看这个接口返回数据的结构："
   ]
  },
  {
   "cell_type": "code",
   "execution_count": 5,
   "metadata": {},
   "outputs": [
    {
     "name": "stdout",
     "output_type": "stream",
     "text": [
      "[\n",
      "  {\n",
      "    \"id\": \"25681716269\",\n",
      "    \"type\": \"PushEvent\",\n",
      "    \"actor\": {\n",
      "      \"id\": 115138590,\n",
      "      \"login\": \"hotspotlab\",\n",
      "      \"display_login\": \"hotspotlab\",\n",
      "      \"gravatar_id\": \"\",\n",
      "      \"url\": \"https://api.github.com/users/hotspotlab\",\n",
      "      \"avatar_url\": \"https://avatars.githubusercontent.com/u/115138590?\"\n",
      "    },\n",
      "    \"repo\": {\n",
      "      \"id\": 546496366,\n",
      "      \"name\": \"hotspotlab/hourly\",\n",
      "      \"url\": \"https://api.github.com/repos/hotspotlab/hourly\"\n",
      "    },\n",
      "    \"payload\": {\n",
      "      \"push_id\": 11895650368,\n",
      "      \"size\": 1,\n",
      "      \"distinct_size\": 1,\n",
      "      \"ref\": \"refs/heads/main\",\n",
      "      \"head\": \"a2031ff259e1c4c1ef1648d15426eef765ff0fbf\",\n",
      "      \"before\": \"12f74b7165b9aa620acacc37627132b6f8351cc4\",\n",
      "      \"commits\": [\n",
      "        {\n",
      "          \"sha\": \"a2031ff259e1c4c1ef1648d15426eef765ff0fbf\",\n",
      "          \"author\": {\n",
      "            \"email\": \"115138590+hotspotlab@users.noreply.github.com\",\n",
      "            \"name\": \"hotspotlab\"\n",
      "          },\n",
      "          \"message\": \"super\",\n",
      "          \"distinct\": true,\n",
      "          \"url\": \"https://api.github.com/repos/hotspotlab/hourly/commits/a2031ff259e1c4c1ef1648d15426eef765ff0fbf\"\n",
      "        }\n",
      "      ]\n",
      "    },\n",
      "    \"public\": true,\n",
      "    \"created_at\": \"2022-12-06T07:00:13Z\"\n",
      "  },\n",
      "  {\n",
      "    \"id\": \"25681716255\",\n",
      "    \"type\": \"PushEvent\",\n",
      "    \"actor\": {\n",
      "      \"id\": 80214030,\n",
      "      \"login\": \"AlejandroM816\",\n",
      "      \"display_login\": \"AlejandroM816\",\n",
      "      \"gravatar_id\": \"\",\n",
      "      \"url\": \"https://api.github.com/users/AlejandroM816\",\n",
      "      \"avatar_url\": \"https://avatars.githubusercontent.com/u/80214030?\"\n",
      "    },\n",
      "    \"repo\": {\n",
      "      \"id\": 574831651,\n",
      "      \"name\": \"AlejandroM816/Profile\",\n",
      "      \"url\": \"https://api.github.com/repos/AlejandroM816/Profile\"\n",
      "    },\n",
      "    \"payload\": {\n",
      "      \"push_id\": 11895650351,\n",
      "      \"size\": 1,\n",
      "      \"distinct_size\": 1,\n",
      "      \"ref\": \"refs/heads/main\",\n",
      "      \"head\": \"c0ca3427c2fe94c6355ce07ac8278055fb089d3a\",\n",
      "      \"before\": \"71cc0b10fdd308c96d4b843dae93baf84352e087\",\n",
      "      \"commits\": [\n",
      "        {\n",
      "          \"sha\": \"c0ca3427c2fe94c6355ce07ac8278055fb089d3a\",\n",
      "          \"author\": {\n",
      "            \"email\": \"80214030+AlejandroM816@users.noreply.github.com\",\n",
      "            \"name\": \"Alejandro Muñoz\"\n",
      "          },\n",
      "          \"message\": \"Add files via upload\",\n",
      "          \"distinct\": true,\n",
      "          \"url\": \"https://api.github.com/repos/AlejandroM816/Profile/commits/c0ca3427c2fe94c6355ce07ac8278055fb089d3a\"\n",
      "        }\n",
      "      ]\n",
      "    },\n",
      "    \"public\": true,\n",
      "    \"created_at\": \"2022-12-06T07:00:13Z\"\n",
      "  },\n",
      "  {\n",
      "    \"id\": \"25681716264\",\n",
      "    \"type\": \"PushEvent\",\n",
      "    \"actor\": {\n",
      "      \"id\": 27063655,\n",
      "      \"login\": \"UANEMESIS\",\n",
      "      \"display_login\": \"UANEMESIS\",\n",
      "      \"gravatar_id\": \"\",\n",
      "      \"url\": \"https://api.github.com/users/UANEMESIS\",\n",
      "      \"avatar_url\": \"https://avatars.githubusercontent.com/u/27063655?\"\n",
      "    },\n",
      "    \"repo\": {\n",
      "      \"id\": 553674576,\n",
      "      \"name\": \"we-shop/ios-ui-test\",\n",
      "      \"url\": \"https://api.github.com/repos/we-shop/ios-ui-test\"\n",
      "    },\n",
      "    \"payload\": {\n",
      "      \"push_id\": 11895650356,\n",
      "      \"size\": 1,\n",
      "      \"distinct_size\": 1,\n",
      "      \"ref\": \"refs/heads/develop\",\n",
      "      \"head\": \"ac547ca01386028d78eeda06dfb8cada91c2b835\",\n",
      "      \"before\": \"1fe9947e19afe0f9148d259eb23ec9aa311ce8e5\",\n",
      "      \"commits\": [\n",
      "        {\n",
      "          \"sha\": \"ac547ca01386028d78eeda06dfb8cada91c2b835\",\n",
      "          \"author\": {\n",
      "            \"email\": \"mike_zone@ukr.net\",\n",
      "            \"name\": \"UANEMESIS\"\n",
      "          },\n",
      "          \"message\": \"Update PARTtest_uat.py\",\n",
      "          \"distinct\": true,\n",
      "          \"url\": \"https://api.github.com/repos/we-shop/ios-ui-test/commits/ac547ca01386028d78eeda06dfb8cada91c2b835\"\n",
      "        }\n",
      "      ]\n",
      "    },\n",
      "    \"public\": true,\n",
      "    \"created_at\": \"2022-12-06T07:00:13Z\",\n",
      "    \"org\": {\n",
      "      \"id\": 10706816,\n",
      "      \"login\": \"we-shop\",\n",
      "      \"gravatar_id\": \"\",\n",
      "      \"url\": \"https://api.github.com/orgs/we-shop\",\n",
      "      \"avatar_url\": \"https://avatars.githubusercontent.com/u/10706816?\"\n",
      "    }\n",
      "  },\n",
      "  {\n",
      "    \"id\": \"25681716258\",\n",
      "    \"type\": \"PushEvent\",\n",
      "    \"actor\": {\n",
      "      \"id\": 105211165,\n",
      "      \"login\": \"mira565\",\n",
      "      \"display_login\": \"mira565\",\n",
      "      \"gravatar_id\": \"\",\n",
      "      \"url\": \"https://api.github.com/users/mira565\",\n",
      "      \"avatar_url\": \"https://avatars.githubusercontent.com/u/105211165?\"\n",
      "    },\n",
      "    \"repo\": {\n",
      "      \"id\": 490247949,\n",
      "      \"name\": \"mira565/beautyness\",\n",
      "      \"url\": \"https://api.github.com/repos/mira565/beautyness\"\n",
      "    },\n",
      "    \"payload\": {\n",
      "      \"push_id\": 11895650343,\n",
      "      \"size\": 1,\n",
      "      \"distinct_size\": 1,\n",
      "      \"ref\": \"refs/heads/master\",\n",
      "      \"head\": \"965ba59b1334200a55e7551f69c3bf1af9f916e4\",\n",
      "      \"before\": \"b182cf14a699f26b9c3cf5dddf6fad648337f21c\",\n",
      "      \"commits\": [\n",
      "        {\n",
      "          \"sha\": \"965ba59b1334200a55e7551f69c3bf1af9f916e4\",\n",
      "          \"author\": {\n",
      "            \"email\": \"105211165+mira565@users.noreply.github.com\",\n",
      "            \"name\": \"mira565\"\n",
      "          },\n",
      "          \"message\": \"Add files via upload\",\n",
      "          \"distinct\": true,\n",
      "          \"url\": \"https://api.github.com/repos/mira565/beautyness/commits/965ba59b1334200a55e7551f69c3bf1af9f916e4\"\n",
      "        }\n",
      "      ]\n",
      "    },\n",
      "    \"public\": true,\n",
      "    \"created_at\": \"2022-12-06T07:00:13Z\"\n",
      "  },\n",
      "  {\n",
      "    \"id\": \"25681716295\",\n",
      "    \"type\": \"IssueCommentEvent\",\n",
      "    \"actor\": {\n",
      "      \"id\": 40209326,\n",
      "      \"login\": \"netlify[bot]\",\n",
      "      \"display_login\": \"netlify\",\n",
      "      \"gravatar_id\": \"\",\n",
      "      \"url\": \"https://api.github.com/users/netlify[bot]\",\n",
      "      \"avatar_url\": \"https://avatars.githubusercontent.com/u/40209326?\"\n",
      "    },\n",
      "    \"repo\": {\n",
      "      \"id\": 239210694,\n",
      "      \"name\": \"ProjectCaelus/website-DEPRECATED\",\n",
      "      \"url\": \"https://api.github.com/repos/ProjectCaelus/website-DEPRECATED\"\n",
      "    },\n",
      "    \"payload\": {\n",
      "      \"action\": \"created\",\n",
      "      \"issue\": {\n",
      "        \"url\": \"https://api.github.com/repos/ProjectCaelus/website-DEPRECATED/issues/40\",\n",
      "        \"repository_url\": \"https://api.github.com/repos/ProjectCaelus/website-DEPRECATED\",\n",
      "        \"labels_url\": \"https://api.github.com/repos/ProjectCaelus/website-DEPRECATED/issues/40/labels{/name}\",\n",
      "        \"comments_url\": \"https://api.github.com/repos/ProjectCaelus/website-DEPRECATED/issues/40/comments\",\n",
      "        \"events_url\": \"https://api.github.com/repos/ProjectCaelus/website-DEPRECATED/issues/40/events\",\n",
      "        \"html_url\": \"https://github.com/ProjectCaelus/website-DEPRECATED/pull/40\",\n",
      "        \"id\": 1478397757,\n",
      "        \"node_id\": \"PR_kwDODkIQxs5EcZkL\",\n",
      "        \"number\": 40,\n",
      "        \"title\": \"Bump decode-uri-component from 0.2.0 to 0.2.2 in /packages/cms\",\n",
      "        \"user\": {\n",
      "          \"login\": \"dependabot[bot]\",\n",
      "          \"id\": 49699333,\n",
      "          \"node_id\": \"MDM6Qm90NDk2OTkzMzM=\",\n",
      "          \"avatar_url\": \"https://avatars.githubusercontent.com/in/29110?v=4\",\n",
      "          \"gravatar_id\": \"\",\n",
      "          \"url\": \"https://api.github.com/users/dependabot%5Bbot%5D\",\n",
      "          \"html_url\": \"https://github.com/apps/dependabot\",\n",
      "          \"followers_url\": \"https://api.github.com/users/dependabot%5Bbot%5D/followers\",\n",
      "          \"following_url\": \"https://api.github.com/users/dependabot%5Bbot%5D/following{/other_user}\",\n",
      "          \"gists_url\": \"https://api.github.com/users/dependabot%5Bbot%5D/gists{/gist_id}\",\n",
      "          \"starred_url\": \"https://api.github.com/users/dependabot%5Bbot%5D/starred{/owner}{/repo}\",\n",
      "          \"subscriptions_url\": \"https://api.github.com/users/dependabot%5Bbot%5D/subscriptions\",\n",
      "          \"organizations_url\": \"https://api.github.com/users/dependabot%5Bbot%5D/orgs\",\n",
      "          \"repos_url\": \"https://api.github.com/users/dependabot%5Bbot%5D/repos\",\n",
      "          \"events_url\": \"https://api.github.com/users/dependabot%5Bbot%5D/events{/privacy}\",\n",
      "          \"received_events_url\": \"https://api.github.com/users/dependabot%5Bbot%5D/received_events\",\n",
      "          \"type\": \"Bot\",\n",
      "          \"site_admin\": false\n",
      "        },\n",
      "        \"labels\": [\n",
      "          {\n",
      "            \"id\": 2218881007,\n",
      "            \"node_id\": \"MDU6TGFiZWwyMjE4ODgxMDA3\",\n",
      "            \"url\": \"https://api.github.com/repos/ProjectCaelus/website-DEPRECATED/labels/dependencies\",\n",
      "            \"name\": \"dependencies\",\n",
      "            \"color\": \"0366d6\",\n",
      "            \"default\": false,\n",
      "            \"description\": \"Pull requests that update a dependency file\"\n",
      "          }\n",
      "        ],\n",
      "        \"state\": \"open\",\n",
      "        \"locked\": false,\n",
      "        \"assignee\": null,\n",
      "        \"assignees\": [\n",
      "\n",
      "        ],\n",
      "        \"milestone\": null,\n",
      "        \"comments\": 0,\n",
      "        \"created_at\": \"2022-12-06T07:00:05Z\",\n",
      "        \"updated_at\": \"2022-12-06T07:00:12Z\",\n",
      "        \"closed_at\": null,\n",
      "        \"author_association\": \"NONE\",\n",
      "        \"active_lock_reason\": null,\n",
      "        \"draft\": false,\n",
      "        \"pull_request\": {\n",
      "          \"url\": \"https://api.github.com/repos/ProjectCaelus/website-DEPRECATED/pulls/40\",\n",
      "          \"html_url\": \"https://github.com/ProjectCaelus/website-DEPRECATED/pull/40\",\n",
      "          \"diff_url\": \"https://github.com/ProjectCaelus/website-DEPRECATED/pull/40.diff\",\n",
      "          \"patch_url\": \"https://github.com/ProjectCaelus/website-DEPRECATED/pull/40.patch\",\n",
      "          \"merged_at\": null\n",
      "        },\n",
      "        \"body\": \"Bumps [decode-uri-component](https://github.com/SamVerschueren/decode-uri-component) from 0.2.0 to 0.2.2.\\n<details>\\n<summary>Release notes</summary>\\n<p><em>Sourced from <a href=\\\"https://github.com/SamVerschueren/decode-uri-component/releases\\\">decode-uri-component's releases</a>.</em></p>\\n<blockquote>\\n<h2>v0.2.2</h2>\\n<ul>\\n<li>Prevent overwriting previously decoded tokens  980e0bf</li>\\n</ul>\\n<p><a href=\\\"https://github.com/SamVerschueren/decode-uri-component/compare/v0.2.1...v0.2.2\\\">https://github.com/SamVerschueren/decode-uri-component/compare/v0.2.1...v0.2.2</a></p>\\n<h2>v0.2.1</h2>\\n<ul>\\n<li>Switch to GitHub workflows  76abc93</li>\\n<li>Fix issue where decode throws - fixes <a href=\\\"https://github-redirect.dependabot.com/SamVerschueren/decode-uri-component/issues/6\\\">#6</a>  746ca5d</li>\\n<li>Update license (<a href=\\\"https://github-redirect.dependabot.com/SamVerschueren/decode-uri-component/issues/1\\\">#1</a>)  486d7e2</li>\\n<li>Tidelift tasks  a650457</li>\\n<li>Meta tweaks  66e1c28</li>\\n</ul>\\n<p><a href=\\\"https://github.com/SamVerschueren/decode-uri-component/compare/v0.2.0...v0.2.1\\\">https://github.com/SamVerschueren/decode-uri-component/compare/v0.2.0...v0.2.1</a></p>\\n</blockquote>\\n</details>\\n<details>\\n<summary>Commits</summary>\\n<ul>\\n<li><a href=\\\"https://github.com/SamVerschueren/decode-uri-component/commit/a0eea469d26eb0df668b081672cdb9581feb78eb\\\"><code>a0eea46</code></a> 0.2.2</li>\\n<li><a href=\\\"https://github.com/SamVerschueren/decode-uri-component/commit/980e0bf09b64d94f1aa79012f895816c30ffd152\\\"><code>980e0bf</code></a> Prevent overwriting previously decoded tokens</li>\\n<li><a href=\\\"https://github.com/SamVerschueren/decode-uri-component/commit/3c8a373dd4837e89b3f970e01295dd03e1405a33\\\"><code>3c8a373</code></a> 0.2.1</li>\\n<li><a href=\\\"https://github.com/SamVerschueren/decode-uri-component/commit/76abc939783fe3900fadb7d384a74d324d5557f3\\\"><code>76abc93</code></a> Switch to GitHub workflows</li>\\n<li><a href=\\\"https://github.com/SamVerschueren/decode-uri-component/commit/746ca5dcb6667c5d364e782d53c542830e4c10b9\\\"><code>746ca5d</code></a> Fix issue where decode throws - fixes <a href=\\\"https://github-redirect.dependabot.com/SamVerschueren/decode-uri-component/issues/6\\\">#6</a></li>\\n<li><a href=\\\"https://github.com/SamVerschueren/decode-uri-component/commit/486d7e26d3a8c0fbe860fb651fe1bc98c2f2be30\\\"><code>486d7e2</code></a> Update license (<a href=\\\"https://github-redirect.dependabot.com/SamVerschueren/decode-uri-component/issues/1\\\">#1</a>)</li>\\n<li><a href=\\\"https://github.com/SamVerschueren/decode-uri-component/commit/a65045724e6234acef87f31da499d4807b20b134\\\"><code>a650457</code></a> Tidelift tasks</li>\\n<li><a href=\\\"https://github.com/SamVerschueren/decode-uri-component/commit/66e1c2834c0e189201cb65196ec3101372459b02\\\"><code>66e1c28</code></a> Meta tweaks</li>\\n<li>See full diff in <a href=\\\"https://github.com/SamVerschueren/decode-uri-component/compare/v0.2.0...v0.2.2\\\">compare view</a></li>\\n</ul>\\n</details>\\n<br />\\n\\n\\n[![Dependabot compatibility score](https://dependabot-badges.githubapp.com/badges/compatibility_score?dependency-name=decode-uri-component&package-manager=npm_and_yarn&previous-version=0.2.0&new-version=0.2.2)](https://docs.github.com/en/github/managing-security-vulnerabilities/about-dependabot-security-updates#about-compatibility-scores)\\n\\nDependabot will resolve any conflicts with this PR as long as you don't alter it yourself. You can also trigger a rebase manually by commenting `@dependabot rebase`.\\n\\n[//]: # (dependabot-automerge-start)\\n[//]: # (dependabot-automerge-end)\\n\\n---\\n\\n<details>\\n<summary>Dependabot commands and options</summary>\\n<br />\\n\\nYou can trigger Dependabot actions by commenting on this PR:\\n- `@dependabot rebase` will rebase this PR\\n- `@dependabot recreate` will recreate this PR, overwriting any edits that have been made to it\\n- `@dependabot merge` will merge this PR after your CI passes on it\\n- `@dependabot squash and merge` will squash and merge this PR after your CI passes on it\\n- `@dependabot cancel merge` will cancel a previously requested merge and block automerging\\n- `@dependabot reopen` will reopen this PR if it is closed\\n- `@dependabot close` will close this PR and stop Dependabot recreating it. You can achieve the same result by closing it manually\\n- `@dependabot ignore this major version` will close this PR and stop Dependabot creating any more for this major version (unless you reopen the PR or upgrade to it yourself)\\n- `@dependabot ignore this minor version` will close this PR and stop Dependabot creating any more for this minor version (unless you reopen the PR or upgrade to it yourself)\\n- `@dependabot ignore this dependency` will close this PR and stop Dependabot creating any more for this dependency (unless you reopen the PR or upgrade to it yourself)\\n- `@dependabot use these labels` will set the current labels as the default for future PRs for this repo and language\\n- `@dependabot use these reviewers` will set the current reviewers as the default for future PRs for this repo and language\\n- `@dependabot use these assignees` will set the current assignees as the default for future PRs for this repo and language\\n- `@dependabot use this milestone` will set the current milestone as the default for future PRs for this repo and language\\n\\nYou can disable automated security fix PRs for this repo from the [Security Alerts page](https://github.com/ProjectCaelus/website-DEPRECATED/network/alerts).\\n\\n</details>\",\n",
      "        \"reactions\": {\n",
      "          \"url\": \"https://api.github.com/repos/ProjectCaelus/website-DEPRECATED/issues/40/reactions\",\n",
      "          \"total_count\": 0,\n",
      "          \"+1\": 0,\n",
      "          \"-1\": 0,\n",
      "          \"laugh\": 0,\n",
      "          \"hooray\": 0,\n",
      "          \"confused\": 0,\n",
      "          \"heart\": 0,\n",
      "          \"rocket\": 0,\n",
      "          \"eyes\": 0\n",
      "        },\n",
      "        \"timeline_url\": \"https://api.github.com/repos/ProjectCaelus/website-DEPRECATED/issues/40/timeline\",\n",
      "        \"performed_via_github_app\": null,\n",
      "        \"state_reason\": null\n",
      "      },\n",
      "      \"comment\": {\n",
      "        \"url\": \"https://api.github.com/repos/ProjectCaelus/website-DEPRECATED/issues/comments/1338875734\",\n",
      "        \"html_url\": \"https://github.com/ProjectCaelus/website-DEPRECATED/pull/40#issuecomment-1338875734\",\n",
      "        \"issue_url\": \"https://api.github.com/repos/ProjectCaelus/website-DEPRECATED/issues/40\",\n",
      "        \"id\": 1338875734,\n",
      "        \"node_id\": \"IC_kwDODkIQxs5PzZ9W\",\n",
      "        \"user\": {\n",
      "          \"login\": \"netlify[bot]\",\n",
      "          \"id\": 40209326,\n",
      "          \"node_id\": \"MDM6Qm90NDAyMDkzMjY=\",\n",
      "          \"avatar_url\": \"https://avatars.githubusercontent.com/in/13473?v=4\",\n",
      "          \"gravatar_id\": \"\",\n",
      "          \"url\": \"https://api.github.com/users/netlify%5Bbot%5D\",\n",
      "          \"html_url\": \"https://github.com/apps/netlify\",\n",
      "          \"followers_url\": \"https://api.github.com/users/netlify%5Bbot%5D/followers\",\n",
      "          \"following_url\": \"https://api.github.com/users/netlify%5Bbot%5D/following{/other_user}\",\n",
      "          \"gists_url\": \"https://api.github.com/users/netlify%5Bbot%5D/gists{/gist_id}\",\n",
      "          \"starred_url\": \"https://api.github.com/users/netlify%5Bbot%5D/starred{/owner}{/repo}\",\n",
      "          \"subscriptions_url\": \"https://api.github.com/users/netlify%5Bbot%5D/subscriptions\",\n",
      "          \"organizations_url\": \"https://api.github.com/users/netlify%5Bbot%5D/orgs\",\n",
      "          \"repos_url\": \"https://api.github.com/users/netlify%5Bbot%5D/repos\",\n",
      "          \"events_url\": \"https://api.github.com/users/netlify%5Bbot%5D/events{/privacy}\",\n",
      "          \"received_events_url\": \"https://api.github.com/users/netlify%5Bbot%5D/received_events\",\n",
      "          \"type\": \"Bot\",\n",
      "          \"site_admin\": false\n",
      "        },\n",
      "        \"created_at\": \"2022-12-06T07:00:12Z\",\n",
      "        \"updated_at\": \"2022-12-06T07:00:12Z\",\n",
      "        \"author_association\": \"NONE\",\n",
      "        \"body\": \"### <span aria-hidden=\\\"true\\\">👷</span> Deploy Preview for *sensational-vacherin-f0de78* processing.\\n\\n\\n|  Name | Link |\\n|---------------------------------|------------------------|\\n|<span aria-hidden=\\\"true\\\">🔨</span> Latest commit | 435db0a87b80ea6cae87dff92ac4b6363f4f4d03 |\\n|<span aria-hidden=\\\"true\\\">🔍</span> Latest deploy log | https://app.netlify.com/sites/sensational-vacherin-f0de78/deploys/638ee8776fea38000823faca |\",\n",
      "        \"reactions\": {\n",
      "          \"url\": \"https://api.github.com/repos/ProjectCaelus/website-DEPRECATED/issues/comments/1338875734/reactions\",\n",
      "          \"total_count\": 0,\n",
      "          \"+1\": 0,\n",
      "          \"-1\": 0,\n",
      "          \"laugh\": 0,\n",
      "          \"hooray\": 0,\n",
      "          \"confused\": 0,\n",
      "          \"heart\": 0,\n",
      "          \"rocket\": 0,\n",
      "          \"eyes\": 0\n",
      "        },\n",
      "        \"performed_via_github_app\": null\n",
      "      }\n",
      "    },\n",
      "    \"public\": true,\n",
      "    \"created_at\": \"2022-12-06T07:00:13Z\",\n",
      "    \"org\": {\n",
      "      \"id\": 45294191,\n",
      "      \"login\": \"ProjectCaelus\",\n",
      "      \"gravatar_id\": \"\",\n",
      "      \"url\": \"https://api.github.com/orgs/ProjectCaelus\",\n",
      "      \"avatar_url\": \"https://avatars.githubusercontent.com/u/45294191?\"\n",
      "    }\n",
      "  }\n",
      "]\n"
     ]
    }
   ],
   "source": [
    "!curl -s \\\n",
    "  -H \"Accept: application/vnd.github.v3+json\" \\\n",
    "  -H \"Authorization: token $GITHUB_TOKEN\" \\\n",
    "  https://api.github.com/events?per_page=5"
   ]
  },
  {
   "cell_type": "markdown",
   "metadata": {},
   "source": [
    "### 导入历史数据\n",
    "\n",
    "由于 `/events` API 的限制，我们无法获取到历史的所有事件数据，于是我们找寻了该 API 的归档数据。通过 [GhArchive](https://www.gharchive.org/) 项目，我们可以下载以天或小时为粒度的归档数据。\n",
    "\n",
    "| Query | Downloadable Files |\n",
    "| ---- | ---- |\n",
    "| Activity for 1/1/2015 @ 3PM UTC |\t`https://data.gharchive.org/2015-01-01-15.json.gz` |\n",
    "| Activity for 1/1/2015 | `https://data.gharchive.org/2015-01-01-{0..23}.json.gz` |\n",
    "| Activity for all of January 2015 | `https://data.gharchive.org/2015-01-{01..31}-{0..23}.json.gz` |\n"
   ]
  },
  {
   "cell_type": "markdown",
   "metadata": {},
   "source": [
    "目前（2022-12-06），OSS Insight 已经收集了超过 53 亿条公开事件数据，你可以通过访问 API 或在网站上查看当前收集的事件总数："
   ]
  },
  {
   "cell_type": "code",
   "execution_count": null,
   "metadata": {},
   "outputs": [],
   "source": [
    "!curl -s https://api.ossinsight.io/q/events-total | jq -r \".data[0]\""
   ]
  },
  {
   "cell_type": "markdown",
   "metadata": {},
   "source": [
    "为了方便演示，我们从中筛选出了部分数据，使用 [Dumpling](https://docs.pingcap.com/zh/tidb/stable/dumpling-overview) 工具导出到 AWS S3 文件存储当中，你可以使用 TiDB Cloud 的 Import 功能将其导入数据库当中：\n",
    "\n",
    "`github_events` 表:\n",
    "\n",
    "```bash\n",
    "tiup dumpling --host <endpoint> --port 4000 --user <uername> --password <password> --filetype sql --filter \"gharchive_dev.github_events\" --where=\"type in ('WatchEvent', 'IssuesEvent', 'PullRequestEvent', 'PushEvent') and repo_id in (507775,41986369,16563587,60246359,108110,11008207,6358188,48833910,114187903,105944401,50874442,44781140,166515022,20089857,19816070,206444,31006158,99919302,28738447,402945349,30753733,372536760,302827809,196353673,393235957,417731747,417726876,453068084,5349565,422821402,496505424,927442,138754790,49876476,208728772)\" -o \"s3://ossinsight/workshop/oss_database_sample\" --s3.region \"us-west-2\"\n",
    "```\n",
    "\n",
    "`github_users` 表:\n",
    "\n",
    "```bash\n",
    "tiup dumpling --host <endpoint>  --port 4000 --user <uername> --password <password> --filetype sql --filter \"gharchive_dev.github_users\" --where=\"login IN (SELECT ge.actor_login FROM gharchive_dev.github_events ge WHERE ge.type IN ('WatchEvent', 'IssuesEvent', 'PullRequestEvent', 'PushEvent') AND ge.repo_id IN (507775,41986369,16563587,60246359,108110,11008207,6358188,48833910,114187903,105944401,50874442,44781140,166515022,20089857,19816070,206444,31006158,99919302,28738447,402945349,30753733,372536760,302827809,196353673,393235957,417731747,417726876,453068084,5349565,422821402,496505424,927442,138754790,49876476,208728772))\" -o \"s3://ossinsight/workshop/oss_database_sample\" --s3.region \"us-west-2\"\n",
    "```"
   ]
  },
  {
   "cell_type": "markdown",
   "metadata": {},
   "source": [
    "S3 URI:"
   ]
  },
  {
   "cell_type": "raw",
   "metadata": {},
   "source": [
    "s3://ossinsight/workshop/oss_database_sample/"
   ]
  },
  {
   "cell_type": "markdown",
   "metadata": {},
   "source": [
    "Role ARN:"
   ]
  },
  {
   "cell_type": "raw",
   "metadata": {},
   "source": [
    "arn:aws:iam::494090988690:role/tidb-cloud-reader"
   ]
  },
  {
   "cell_type": "markdown",
   "metadata": {},
   "source": [
    "将上面的 `S3 URI` 和 `Role ARN` 添加到导入配置当中，根据页面提示开启导入任务：\n",
    "\n",
    "<center>\n",
    "    <img width=\"700\" alt=\"image\" src=\"https://user-images.githubusercontent.com/85985765/205849289-de1203f7-80dd-4520-8e40-fc91f0a76631.png\">\n",
    "    <p><i>TiDB Cloud 导入功能 - 准备页面</i></p>\n",
    "</center>\n",
    "\n",
    "<center>\n",
    "    <img width=\"700\" alt=\"TiDB Cloud - Importing\" src=\"https://user-images.githubusercontent.com/85985765/205808913-9c32d61f-f9aa-43fa-ad4d-1bba4201b41d.png\">\n",
    "    <p><i>TiDB Cloud 导入功能 - 状态页面</i></p>\n",
    "</center>"
   ]
  },
  {
   "cell_type": "markdown",
   "metadata": {},
   "source": [
    "### 导入实时数据\n",
    "\n",
    "执行下面的 Docker Compose 命令启动 ETL 脚本，该脚本负责将 Github Events API 返回结果中的 JSON 数据导入到数据库当中。"
   ]
  },
  {
   "cell_type": "code",
   "execution_count": null,
   "metadata": {},
   "outputs": [],
   "source": [
    "%%!\n",
    "docker compsoe pull\n",
    "docker compose up -d etl"
   ]
  },
  {
   "cell_type": "markdown",
   "metadata": {},
   "source": [
    "## 背景知识"
   ]
  },
  {
   "cell_type": "markdown",
   "metadata": {},
   "source": [
    "#### 优化器\n",
    "\n",
    "SQL 是一种声明式语言，而非过程性的语言。也就是说，它描述的是最终结果应该如何，而非按顺序执行的步骤。因此在 TiDB 在处理 SQL 语句的过程中，除了要确保能够正确返回语句所描述的最终结果，还要确定 SQL 语句的执行过程，并且尽可能的对 SQL 语句进行性能优化，从而得到最佳的执行计划。\n",
    "\n",
    "SQL 性能优化的过程，可以理解为 GPS 导航的过程。你提供地址后，GPS 软件利用各种统计信息（例如以前的行程、速度限制等元数据，以及实时交通信息）规划出一条最省时的路线。这与 TiDB 中的 SQL 性能优化过程相对应。\n",
    "\n",
    "我们通常会把负责这部分 SQL 优化工作的组件成为**优化器（Optimizer）**。\n",
    "\n",
    "如下图所示，一条 SQL 语句在经过语法解析和校验之后，经过优化器的逻辑优化和物理优化来制定最终的执行计划，交给执行器（Executor）去执行。和 GPS 软件一样，优化器在进行执行计划规划的时候也会利用到一些统计信息来进行评估。\n",
    "\n",
    "<center>\n",
    "  <img width=\"640\" alt=\"The Cluster Modify Menu\" src=\"https://user-images.githubusercontent.com/85985765/205136445-3d9dd676-56bc-4f75-bf6d-cdb1af8c1b79.png\">\n",
    "  <p><i>SQL 优化流程图</i></p>\n",
    "</center>\n",
    "\n",
    "上图其实是一个简化的示意图，因为它只描述了以 TiKV 为存储引擎的情况。但是在 TiDB 支持 HTAP 能力后，引进了负责分析负载的 TiFlash 存储引擎。这给优化器带来了新的挑战，优化器需要在制定执行计划和进行物理\n",
    "优化时需要考虑：\n",
    "\n",
    "> 这条 SQL 应该使用哪个存储引擎执行性能会更好，选 TiKV 还是 TiFlash？"
   ]
  },
  {
   "cell_type": "markdown",
   "metadata": {},
   "source": [
    "#### Optimizer Hints\n",
    "\n",
    "> 如果优化器难以抉择，那我们不妨给它一点提示，告诉它我们希望使用哪种存储引擎执行?\n",
    "\n",
    "TiDB 的优化器提供了 `READ_FROM_STORAGE` Hint 来允许开发者在 SQL 语句级别来控制哪一张表应该使用哪个执行引擎去执行。例如，下在面这条 SQL 语句当中，TiDB 从 TiFlash 上读取 t1 表的数据，在 TiKV 上读取 t2 的数据。\n",
    "\n",
    "```sql\n",
    "SELECT /*+ READ_FROM_STORAGE(TIFLASH[t1], TIKV[t2]) */ t1.a FROM t t1, t t2 WHERE t1.a = t2.a;\n",
    "```"
   ]
  },
  {
   "cell_type": "markdown",
   "metadata": {},
   "source": [
    "#### 代价模型\n",
    "\n",
    "> 使用 Optimizer Hints 很简单，但是有没有更智能的方法，特别是在做临时查询时，优化器能否智能的选择应该使用哪种引擎查询效率最高？\n",
    "\n",
    "<center>\n",
    "  <img width=\"640\" alt=\"物理优化中的代码模型\" src=\"https://user-images.githubusercontent.com/85985765/205192450-c23f2199-1ab1-41d2-90f3-c17c5d6e252e.png\">\n",
    "  <p><i>SQL 优化流程图</i></p>\n",
    "</center>\n",
    "\n",
    "TiDB v6.2.0 引入了新的代价模型 Cost Model Version 2。\n",
    "\n",
    "Cost Model Version 2 对代价公式进行了更精确的回归校准，调整了部分代价公式，比此前版本的代价公式更加准确。\n",
    "\n",
    "OSS Insight 使用了该版本的 Cost Model, 但是因为目前 Cost Model Version 2 还处于实验阶段，需要通过执行以下 SQL 语句进行启用："
   ]
  },
  {
   "cell_type": "code",
   "execution_count": null,
   "metadata": {
    "vscode": {
     "languageId": "shellscript"
    }
   },
   "outputs": [],
   "source": [
    "set global tidb_enable_new_cost_interface = 'ON';\n",
    "set global tidb_cost_model_version = 2;"
   ]
  },
  {
   "cell_type": "markdown",
   "metadata": {},
   "source": [
    "在后续版本当中，Cost Model Version 2 会替代掉原有的 Cost Model 作为默认的代码模型。"
   ]
  },
  {
   "cell_type": "markdown",
   "metadata": {},
   "source": [
    "## Example SQL\n",
    "\n",
    "下面，我们会以 OSS Insight 为示例，讲解如何使用 TiDB 进行数据分析以及在数据分析时如何更好的通过优化器来发挥行存 TiKV 和列存 TiFlash 各自的优势。\n"
   ]
  },
  {
   "cell_type": "markdown",
   "metadata": {
    "slideshow": {
     "slide_type": "slide"
    }
   },
   "source": [
    "### 定义 Query 工具函数\n",
    "\n",
    "首先，请执行下面的 Python 代码，初始化一个 query 函数用于后续的 SQL 查询："
   ]
  },
  {
   "cell_type": "code",
   "execution_count": 4,
   "metadata": {
    "slideshow": {
     "slide_type": "subslide"
    }
   },
   "outputs": [],
   "source": [
    "import mysql.connector as connection\n",
    "import pandas as pd\n",
    "\n",
    "db_host = os.getenv('DB_ENDPOINT')\n",
    "db_port = os.getenv(\"DB_PORT\")\n",
    "db_username = os.getenv('DB_USERNAME')\n",
    "db_password = os.getenv('DB_PASSWORD')\n",
    "db_name = os.getenv('DB_NAME')\n",
    "\n",
    "mydb = connection.connect(\n",
    "  host=db_host,\n",
    "  port=db_port,\n",
    "  user=db_username,\n",
    "  password=db_password,\n",
    "  database=db_name\n",
    ")\n",
    "\n",
    "def execute(sql):\n",
    "  try:\n",
    "    df = pd.read_sql(sql, mydb)\n",
    "    return df.style.set_properties(**{'text-align': 'left'})\n",
    "  except Exception as e:\n",
    "    print(str(e))\n",
    "\n",
    "def query(sql):\n",
    "  try:\n",
    "\n",
    "    df = pd.read_sql(sql, mydb)\n",
    "    return df.style.set_properties(**{'text-align': 'left'})\n",
    "  except Exception as e:\n",
    "    print(str(e))"
   ]
  },
  {
   "cell_type": "markdown",
   "metadata": {},
   "source": [
    "### Example 1: How many pull request does `ti-chi-bot` created?"
   ]
  },
  {
   "cell_type": "markdown",
   "metadata": {},
   "source": [
    "熟悉 TiDB 的用户可能会知道，在 TiDB 的版本规则里会存在两种版本：\n",
    "\n",
    "- 一种是为了能够更快交付迭代而设计的开发里程碑版本 (Development Milestone Releases, DMR)\n",
    "- 另外一种是提供长期技术支持的长期支持版本 (Long-Term Support Releases, LTS)\n",
    "\n",
    "在 LTS 生命周期内会按需发布补丁版本 (Patch Release)。如果一个修复 BUG 的 Pull Request 会被 Cherry-Pick 到受影响的 LTS 分支进行修复，这部分工作会由机器人根据研发和 QA 团队确定的受影响版本列表进行自动的 Cherry—Pick，所以你会在 TiDB 的代码仓库当中看见不少[由机器人发起的 Pull Request](https://github.com/pingcap/tidb/pulls/ti-chi-bot)。\n",
    "\n",
    "> 🤔 那么，TiDB 的社区机器人（`ti-chi-bot`）一共创建了多少个 Pull Request 呢？\n",
    "\n",
    "我们可以通过下面的 SQL 语句进行查询："
   ]
  },
  {
   "cell_type": "code",
   "execution_count": 14,
   "metadata": {},
   "outputs": [
    {
     "data": {
      "text/html": [
       "<style type=\"text/css\">\n",
       "#T_c6e6d_row0_col0, #T_c6e6d_row0_col1 {\n",
       "  text-align: left;\n",
       "}\n",
       "</style>\n",
       "<table id=\"T_c6e6d_\">\n",
       "  <thead>\n",
       "    <tr>\n",
       "      <th class=\"blank level0\" >&nbsp;</th>\n",
       "      <th class=\"col_heading level0 col0\" >repo_name</th>\n",
       "      <th class=\"col_heading level0 col1\" >prs</th>\n",
       "    </tr>\n",
       "  </thead>\n",
       "  <tbody>\n",
       "    <tr>\n",
       "      <th id=\"T_c6e6d_level0_row0\" class=\"row_heading level0 row0\" >0</th>\n",
       "      <td id=\"T_c6e6d_row0_col0\" class=\"data row0 col0\" >pingcap/tidb</td>\n",
       "      <td id=\"T_c6e6d_row0_col1\" class=\"data row0 col1\" >138</td>\n",
       "    </tr>\n",
       "  </tbody>\n",
       "</table>\n"
      ],
      "text/plain": [
       "<pandas.io.formats.style.Styler at 0x7f324fc20208>"
      ]
     },
     "execution_count": 14,
     "metadata": {},
     "output_type": "execute_result"
    }
   ],
   "source": [
    "query(\"\"\"\n",
    "SELECT repo_name, COUNT(1) AS prs\n",
    "FROM github_events\n",
    "WHERE\n",
    "    type = 'PullRequestEvent'\n",
    "    AND action = 'opened'\n",
    "    AND actor_login = 'ti-chi-bot'\n",
    "GROUP BY repo_name\n",
    "\"\"\")"
   ]
  },
  {
   "cell_type": "markdown",
   "metadata": {},
   "source": [
    "通过 `EXPLAIN ANALYZE` 查看上面 SQL 语句的执行计划："
   ]
  },
  {
   "cell_type": "code",
   "execution_count": 15,
   "metadata": {
    "vscode": {
     "languageId": "shellscript"
    }
   },
   "outputs": [
    {
     "data": {
      "text/html": [
       "<style type=\"text/css\">\n",
       "#T_0a5ce_row0_col0, #T_0a5ce_row0_col1, #T_0a5ce_row0_col2, #T_0a5ce_row0_col3, #T_0a5ce_row0_col4, #T_0a5ce_row0_col5, #T_0a5ce_row0_col6, #T_0a5ce_row0_col7, #T_0a5ce_row0_col8, #T_0a5ce_row1_col0, #T_0a5ce_row1_col1, #T_0a5ce_row1_col2, #T_0a5ce_row1_col3, #T_0a5ce_row1_col4, #T_0a5ce_row1_col5, #T_0a5ce_row1_col6, #T_0a5ce_row1_col7, #T_0a5ce_row1_col8, #T_0a5ce_row2_col0, #T_0a5ce_row2_col1, #T_0a5ce_row2_col2, #T_0a5ce_row2_col3, #T_0a5ce_row2_col4, #T_0a5ce_row2_col5, #T_0a5ce_row2_col6, #T_0a5ce_row2_col7, #T_0a5ce_row2_col8, #T_0a5ce_row3_col0, #T_0a5ce_row3_col1, #T_0a5ce_row3_col2, #T_0a5ce_row3_col3, #T_0a5ce_row3_col4, #T_0a5ce_row3_col5, #T_0a5ce_row3_col6, #T_0a5ce_row3_col7, #T_0a5ce_row3_col8, #T_0a5ce_row4_col0, #T_0a5ce_row4_col1, #T_0a5ce_row4_col2, #T_0a5ce_row4_col3, #T_0a5ce_row4_col4, #T_0a5ce_row4_col5, #T_0a5ce_row4_col6, #T_0a5ce_row4_col7, #T_0a5ce_row4_col8, #T_0a5ce_row5_col0, #T_0a5ce_row5_col1, #T_0a5ce_row5_col2, #T_0a5ce_row5_col3, #T_0a5ce_row5_col4, #T_0a5ce_row5_col5, #T_0a5ce_row5_col6, #T_0a5ce_row5_col7, #T_0a5ce_row5_col8, #T_0a5ce_row6_col0, #T_0a5ce_row6_col1, #T_0a5ce_row6_col2, #T_0a5ce_row6_col3, #T_0a5ce_row6_col4, #T_0a5ce_row6_col5, #T_0a5ce_row6_col6, #T_0a5ce_row6_col7, #T_0a5ce_row6_col8 {\n",
       "  text-align: left;\n",
       "}\n",
       "</style>\n",
       "<table id=\"T_0a5ce_\">\n",
       "  <thead>\n",
       "    <tr>\n",
       "      <th class=\"blank level0\" >&nbsp;</th>\n",
       "      <th class=\"col_heading level0 col0\" >id</th>\n",
       "      <th class=\"col_heading level0 col1\" >estRows</th>\n",
       "      <th class=\"col_heading level0 col2\" >actRows</th>\n",
       "      <th class=\"col_heading level0 col3\" >task</th>\n",
       "      <th class=\"col_heading level0 col4\" >access object</th>\n",
       "      <th class=\"col_heading level0 col5\" >execution info</th>\n",
       "      <th class=\"col_heading level0 col6\" >operator info</th>\n",
       "      <th class=\"col_heading level0 col7\" >memory</th>\n",
       "      <th class=\"col_heading level0 col8\" >disk</th>\n",
       "    </tr>\n",
       "  </thead>\n",
       "  <tbody>\n",
       "    <tr>\n",
       "      <th id=\"T_0a5ce_level0_row0\" class=\"row_heading level0 row0\" >0</th>\n",
       "      <td id=\"T_0a5ce_row0_col0\" class=\"data row0 col0\" >Projection_5</td>\n",
       "      <td id=\"T_0a5ce_row0_col1\" class=\"data row0 col1\" >1.00</td>\n",
       "      <td id=\"T_0a5ce_row0_col2\" class=\"data row0 col2\" >1</td>\n",
       "      <td id=\"T_0a5ce_row0_col3\" class=\"data row0 col3\" >root</td>\n",
       "      <td id=\"T_0a5ce_row0_col4\" class=\"data row0 col4\" ></td>\n",
       "      <td id=\"T_0a5ce_row0_col5\" class=\"data row0 col5\" >time:16.9ms, loops:2, Concurrency:OFF</td>\n",
       "      <td id=\"T_0a5ce_row0_col6\" class=\"data row0 col6\" >ossinsight.github_events.repo_name, Column#34</td>\n",
       "      <td id=\"T_0a5ce_row0_col7\" class=\"data row0 col7\" >1016 Bytes</td>\n",
       "      <td id=\"T_0a5ce_row0_col8\" class=\"data row0 col8\" >N/A</td>\n",
       "    </tr>\n",
       "    <tr>\n",
       "      <th id=\"T_0a5ce_level0_row1\" class=\"row_heading level0 row1\" >1</th>\n",
       "      <td id=\"T_0a5ce_row1_col0\" class=\"data row1 col0\" >└─HashAgg_20</td>\n",
       "      <td id=\"T_0a5ce_row1_col1\" class=\"data row1 col1\" >1.00</td>\n",
       "      <td id=\"T_0a5ce_row1_col2\" class=\"data row1 col2\" >1</td>\n",
       "      <td id=\"T_0a5ce_row1_col3\" class=\"data row1 col3\" >root</td>\n",
       "      <td id=\"T_0a5ce_row1_col4\" class=\"data row1 col4\" ></td>\n",
       "      <td id=\"T_0a5ce_row1_col5\" class=\"data row1 col5\" >time:16.9ms, loops:2, partial_worker:{wall_time:16.866894ms, concurrency:5, task_num:1, tot_wait:84.067782ms, tot_exec:25.378µs, tot_time:84.102555ms, max:16.828683ms, p95:16.828683ms}, final_worker:{wall_time:16.918265ms, concurrency:5, task_num:1, tot_wait:84.272723ms, tot_exec:29.637µs, tot_time:84.306145ms, max:16.878693ms, p95:16.878693ms}</td>\n",
       "      <td id=\"T_0a5ce_row1_col6\" class=\"data row1 col6\" >group by:ossinsight.github_events.repo_name, funcs:count(Column#38)->Column#34, funcs:firstrow(ossinsight.github_events.repo_name)->ossinsight.github_events.repo_name</td>\n",
       "      <td id=\"T_0a5ce_row1_col7\" class=\"data row1 col7\" >16.1 KB</td>\n",
       "      <td id=\"T_0a5ce_row1_col8\" class=\"data row1 col8\" >N/A</td>\n",
       "    </tr>\n",
       "    <tr>\n",
       "      <th id=\"T_0a5ce_level0_row2\" class=\"row_heading level0 row2\" >2</th>\n",
       "      <td id=\"T_0a5ce_row2_col0\" class=\"data row2 col0\" >  └─IndexLookUp_21</td>\n",
       "      <td id=\"T_0a5ce_row2_col1\" class=\"data row2 col1\" >1.00</td>\n",
       "      <td id=\"T_0a5ce_row2_col2\" class=\"data row2 col2\" >1</td>\n",
       "      <td id=\"T_0a5ce_row2_col3\" class=\"data row2 col3\" >root</td>\n",
       "      <td id=\"T_0a5ce_row2_col4\" class=\"data row2 col4\" >partition:pull_request_event</td>\n",
       "      <td id=\"T_0a5ce_row2_col5\" class=\"data row2 col5\" >time:16.8ms, loops:2, index_task: {total_time: 3.36ms, fetch_handle: 3.34ms, build: 2.66µs, wait: 19.2µs}, table_task: {total_time: 39.2ms, num: 3, concurrency: 5}</td>\n",
       "      <td id=\"T_0a5ce_row2_col6\" class=\"data row2 col6\" ></td>\n",
       "      <td id=\"T_0a5ce_row2_col7\" class=\"data row2 col7\" >131.5 KB</td>\n",
       "      <td id=\"T_0a5ce_row2_col8\" class=\"data row2 col8\" >N/A</td>\n",
       "    </tr>\n",
       "    <tr>\n",
       "      <th id=\"T_0a5ce_level0_row3\" class=\"row_heading level0 row3\" >3</th>\n",
       "      <td id=\"T_0a5ce_row3_col0\" class=\"data row3 col0\" >    ├─IndexRangeScan_17(Build)</td>\n",
       "      <td id=\"T_0a5ce_row3_col1\" class=\"data row3 col1\" >12145.00</td>\n",
       "      <td id=\"T_0a5ce_row3_col2\" class=\"data row3 col2\" >6563</td>\n",
       "      <td id=\"T_0a5ce_row3_col3\" class=\"data row3 col3\" >cop[tikv]</td>\n",
       "      <td id=\"T_0a5ce_row3_col4\" class=\"data row3 col4\" >table:github_events, index:index_github_events_on_actor_login(actor_login)</td>\n",
       "      <td id=\"T_0a5ce_row3_col5\" class=\"data row3 col5\" >time:3.05ms, loops:9, cop_task: {num: 1, max: 2.95ms, proc_keys: 6564, tot_proc: 4ms, rpc_num: 1, rpc_time: 2.92ms, copr_cache_hit_ratio: 0.00, distsql_concurrency: 15}, tikv_task:{time:4ms, loops:11}, scan_detail: {total_process_keys: 6564, total_process_keys_size: 466024, total_keys: 6565, rocksdb: {block: {}}}</td>\n",
       "      <td id=\"T_0a5ce_row3_col6\" class=\"data row3 col6\" >range:[\"ti-chi-bot\",\"ti-chi-bot\"], keep order:false</td>\n",
       "      <td id=\"T_0a5ce_row3_col7\" class=\"data row3 col7\" >N/A</td>\n",
       "      <td id=\"T_0a5ce_row3_col8\" class=\"data row3 col8\" >N/A</td>\n",
       "    </tr>\n",
       "    <tr>\n",
       "      <th id=\"T_0a5ce_level0_row4\" class=\"row_heading level0 row4\" >4</th>\n",
       "      <td id=\"T_0a5ce_row4_col0\" class=\"data row4 col0\" >    └─HashAgg_7(Probe)</td>\n",
       "      <td id=\"T_0a5ce_row4_col1\" class=\"data row4 col1\" >1.00</td>\n",
       "      <td id=\"T_0a5ce_row4_col2\" class=\"data row4 col2\" >1</td>\n",
       "      <td id=\"T_0a5ce_row4_col3\" class=\"data row4 col3\" >cop[tikv]</td>\n",
       "      <td id=\"T_0a5ce_row4_col4\" class=\"data row4 col4\" ></td>\n",
       "      <td id=\"T_0a5ce_row4_col5\" class=\"data row4 col5\" >time:36.8ms, loops:4, cop_task: {num: 3, max: 12.1ms, min: 11.5ms, avg: 11.8ms, p95: 12.1ms, max_proc_keys: 2499, p95_proc_keys: 2499, tot_proc: 24ms, rpc_num: 3, rpc_time: 35.4ms, copr_cache_hit_ratio: 0.00, distsql_concurrency: 15}, tikv_task:{proc max:8ms, min:8ms, avg: 8ms, p80:8ms, p95:8ms, iters:8, tasks:3}, scan_detail: {total_process_keys: 6563, total_process_keys_size: 1881239, total_keys: 6728, rocksdb: {block: {}}}</td>\n",
       "      <td id=\"T_0a5ce_row4_col6\" class=\"data row4 col6\" >group by:ossinsight.github_events.repo_name, funcs:count(1)->Column#38</td>\n",
       "      <td id=\"T_0a5ce_row4_col7\" class=\"data row4 col7\" >N/A</td>\n",
       "      <td id=\"T_0a5ce_row4_col8\" class=\"data row4 col8\" >N/A</td>\n",
       "    </tr>\n",
       "    <tr>\n",
       "      <th id=\"T_0a5ce_level0_row5\" class=\"row_heading level0 row5\" >5</th>\n",
       "      <td id=\"T_0a5ce_row5_col0\" class=\"data row5 col0\" >      └─Selection_19</td>\n",
       "      <td id=\"T_0a5ce_row5_col1\" class=\"data row5 col1\" >616.14</td>\n",
       "      <td id=\"T_0a5ce_row5_col2\" class=\"data row5 col2\" >138</td>\n",
       "      <td id=\"T_0a5ce_row5_col3\" class=\"data row5 col3\" >cop[tikv]</td>\n",
       "      <td id=\"T_0a5ce_row5_col4\" class=\"data row5 col4\" ></td>\n",
       "      <td id=\"T_0a5ce_row5_col5\" class=\"data row5 col5\" >tikv_task:{proc max:8ms, min:8ms, avg: 8ms, p80:8ms, p95:8ms, iters:8, tasks:3}</td>\n",
       "      <td id=\"T_0a5ce_row5_col6\" class=\"data row5 col6\" >eq(ossinsight.github_events.action, \"opened\"), eq(ossinsight.github_events.type, \"PullRequestEvent\")</td>\n",
       "      <td id=\"T_0a5ce_row5_col7\" class=\"data row5 col7\" >N/A</td>\n",
       "      <td id=\"T_0a5ce_row5_col8\" class=\"data row5 col8\" >N/A</td>\n",
       "    </tr>\n",
       "    <tr>\n",
       "      <th id=\"T_0a5ce_level0_row6\" class=\"row_heading level0 row6\" >6</th>\n",
       "      <td id=\"T_0a5ce_row6_col0\" class=\"data row6 col0\" >        └─TableRowIDScan_18</td>\n",
       "      <td id=\"T_0a5ce_row6_col1\" class=\"data row6 col1\" >12145.00</td>\n",
       "      <td id=\"T_0a5ce_row6_col2\" class=\"data row6 col2\" >6563</td>\n",
       "      <td id=\"T_0a5ce_row6_col3\" class=\"data row6 col3\" >cop[tikv]</td>\n",
       "      <td id=\"T_0a5ce_row6_col4\" class=\"data row6 col4\" >table:github_events</td>\n",
       "      <td id=\"T_0a5ce_row6_col5\" class=\"data row6 col5\" >tikv_task:{proc max:8ms, min:8ms, avg: 8ms, p80:8ms, p95:8ms, iters:8, tasks:3}</td>\n",
       "      <td id=\"T_0a5ce_row6_col6\" class=\"data row6 col6\" >keep order:false</td>\n",
       "      <td id=\"T_0a5ce_row6_col7\" class=\"data row6 col7\" >N/A</td>\n",
       "      <td id=\"T_0a5ce_row6_col8\" class=\"data row6 col8\" >N/A</td>\n",
       "    </tr>\n",
       "  </tbody>\n",
       "</table>\n"
      ],
      "text/plain": [
       "<pandas.io.formats.style.Styler at 0x7f324d87b198>"
      ]
     },
     "execution_count": 15,
     "metadata": {},
     "output_type": "execute_result"
    }
   ],
   "source": [
    "query(\"\"\"\n",
    "EXPLAIN ANALYZE SELECT repo_name, COUNT(1) AS prs\n",
    "FROM github_events\n",
    "WHERE\n",
    "    type = 'PullRequestEvent'\n",
    "    AND action = 'opened'\n",
    "    AND actor_login = 'ti-chi-bot'\n",
    "GROUP BY repo_name\n",
    "\"\"\")"
   ]
  },
  {
   "cell_type": "markdown",
   "metadata": {},
   "source": [
    "通过执行计划，我们可以知道这个 SQL 会使用 TiKV 存储引擎来读取 `github_events` 表中的数据，并且使用了索引 `index_github_events_on_actor_login`。"
   ]
  },
  {
   "cell_type": "markdown",
   "metadata": {},
   "source": [
    "### Example 2: The history of the number of stars"
   ]
  },
  {
   "cell_type": "markdown",
   "metadata": {},
   "source": [
    "#### 问题"
   ]
  },
  {
   "cell_type": "markdown",
   "metadata": {},
   "source": [
    "> 🤔 除了通过聚合函数来进行简单数据分析，TiDB 是否可以做更复杂的数据分析吗？\n",
    "\n",
    "比如我们想要知道某个指标的增长趋势，以代码仓库 `pingcap/tidb` 为例，能否通过 SQL 语句查询该仓库 Star 的增长趋势 (按月累计)，这样的 SQL 语句我们会怎么写?"
   ]
  },
  {
   "cell_type": "code",
   "execution_count": 22,
   "metadata": {},
   "outputs": [
    {
     "data": {
      "text/html": [
       "<style type=\"text/css\">\n",
       "#T_77203_row0_col0, #T_77203_row0_col1, #T_77203_row0_col2, #T_77203_row0_col3, #T_77203_row0_col4, #T_77203_row0_col5, #T_77203_row1_col0, #T_77203_row1_col1, #T_77203_row1_col2, #T_77203_row1_col3, #T_77203_row1_col4, #T_77203_row1_col5, #T_77203_row2_col0, #T_77203_row2_col1, #T_77203_row2_col2, #T_77203_row2_col3, #T_77203_row2_col4, #T_77203_row2_col5, #T_77203_row3_col0, #T_77203_row3_col1, #T_77203_row3_col2, #T_77203_row3_col3, #T_77203_row3_col4, #T_77203_row3_col5, #T_77203_row4_col0, #T_77203_row4_col1, #T_77203_row4_col2, #T_77203_row4_col3, #T_77203_row4_col4, #T_77203_row4_col5, #T_77203_row5_col0, #T_77203_row5_col1, #T_77203_row5_col2, #T_77203_row5_col3, #T_77203_row5_col4, #T_77203_row5_col5, #T_77203_row6_col0, #T_77203_row6_col1, #T_77203_row6_col2, #T_77203_row6_col3, #T_77203_row6_col4, #T_77203_row6_col5, #T_77203_row7_col0, #T_77203_row7_col1, #T_77203_row7_col2, #T_77203_row7_col3, #T_77203_row7_col4, #T_77203_row7_col5, #T_77203_row8_col0, #T_77203_row8_col1, #T_77203_row8_col2, #T_77203_row8_col3, #T_77203_row8_col4, #T_77203_row8_col5, #T_77203_row9_col0, #T_77203_row9_col1, #T_77203_row9_col2, #T_77203_row9_col3, #T_77203_row9_col4, #T_77203_row9_col5 {\n",
       "  text-align: left;\n",
       "}\n",
       "</style>\n",
       "<table id=\"T_77203_\">\n",
       "  <thead>\n",
       "    <tr>\n",
       "      <th class=\"blank level0\" >&nbsp;</th>\n",
       "      <th class=\"col_heading level0 col0\" >actor_id</th>\n",
       "      <th class=\"col_heading level0 col1\" >actor_login</th>\n",
       "      <th class=\"col_heading level0 col2\" >repo_id</th>\n",
       "      <th class=\"col_heading level0 col3\" >repo_name</th>\n",
       "      <th class=\"col_heading level0 col4\" >created_at</th>\n",
       "      <th class=\"col_heading level0 col5\" >event_month</th>\n",
       "    </tr>\n",
       "  </thead>\n",
       "  <tbody>\n",
       "    <tr>\n",
       "      <th id=\"T_77203_level0_row0\" class=\"row_heading level0 row0\" >0</th>\n",
       "      <td id=\"T_77203_row0_col0\" class=\"data row0 col0\" >1953644</td>\n",
       "      <td id=\"T_77203_row0_col1\" class=\"data row0 col1\" >qiuyesuifeng</td>\n",
       "      <td id=\"T_77203_row0_col2\" class=\"data row0 col2\" >41986369</td>\n",
       "      <td id=\"T_77203_row0_col3\" class=\"data row0 col3\" >pingcap/tidb</td>\n",
       "      <td id=\"T_77203_row0_col4\" class=\"data row0 col4\" >2015-09-06 04:15:40</td>\n",
       "      <td id=\"T_77203_row0_col5\" class=\"data row0 col5\" >2015-09-01</td>\n",
       "    </tr>\n",
       "    <tr>\n",
       "      <th id=\"T_77203_level0_row1\" class=\"row_heading level0 row1\" >1</th>\n",
       "      <td id=\"T_77203_row1_col0\" class=\"data row1 col0\" >878009</td>\n",
       "      <td id=\"T_77203_row1_col1\" class=\"data row1 col1\" >ngaut</td>\n",
       "      <td id=\"T_77203_row1_col2\" class=\"data row1 col2\" >41986369</td>\n",
       "      <td id=\"T_77203_row1_col3\" class=\"data row1 col3\" >pingcap/tidb</td>\n",
       "      <td id=\"T_77203_row1_col4\" class=\"data row1 col4\" >2015-09-06 04:15:44</td>\n",
       "      <td id=\"T_77203_row1_col5\" class=\"data row1 col5\" >2015-09-01</td>\n",
       "    </tr>\n",
       "    <tr>\n",
       "      <th id=\"T_77203_level0_row2\" class=\"row_heading level0 row2\" >2</th>\n",
       "      <td id=\"T_77203_row2_col0\" class=\"data row2 col0\" >1192573</td>\n",
       "      <td id=\"T_77203_row2_col1\" class=\"data row2 col1\" >shenli</td>\n",
       "      <td id=\"T_77203_row2_col2\" class=\"data row2 col2\" >41986369</td>\n",
       "      <td id=\"T_77203_row2_col3\" class=\"data row2 col3\" >pingcap/tidb</td>\n",
       "      <td id=\"T_77203_row2_col4\" class=\"data row2 col4\" >2015-09-06 04:15:53</td>\n",
       "      <td id=\"T_77203_row2_col5\" class=\"data row2 col5\" >2015-09-01</td>\n",
       "    </tr>\n",
       "    <tr>\n",
       "      <th id=\"T_77203_level0_row3\" class=\"row_heading level0 row3\" >3</th>\n",
       "      <td id=\"T_77203_row3_col0\" class=\"data row3 col0\" >4242506</td>\n",
       "      <td id=\"T_77203_row3_col1\" class=\"data row3 col1\" >zimulala</td>\n",
       "      <td id=\"T_77203_row3_col2\" class=\"data row3 col2\" >41986369</td>\n",
       "      <td id=\"T_77203_row3_col3\" class=\"data row3 col3\" >pingcap/tidb</td>\n",
       "      <td id=\"T_77203_row3_col4\" class=\"data row3 col4\" >2015-09-06 04:15:53</td>\n",
       "      <td id=\"T_77203_row3_col5\" class=\"data row3 col5\" >2015-09-01</td>\n",
       "    </tr>\n",
       "    <tr>\n",
       "      <th id=\"T_77203_level0_row4\" class=\"row_heading level0 row4\" >4</th>\n",
       "      <td id=\"T_77203_row4_col0\" class=\"data row4 col0\" >891222</td>\n",
       "      <td id=\"T_77203_row4_col1\" class=\"data row4 col1\" >coocood</td>\n",
       "      <td id=\"T_77203_row4_col2\" class=\"data row4 col2\" >41986369</td>\n",
       "      <td id=\"T_77203_row4_col3\" class=\"data row4 col3\" >pingcap/tidb</td>\n",
       "      <td id=\"T_77203_row4_col4\" class=\"data row4 col4\" >2015-09-06 04:16:19</td>\n",
       "      <td id=\"T_77203_row4_col5\" class=\"data row4 col5\" >2015-09-01</td>\n",
       "    </tr>\n",
       "    <tr>\n",
       "      <th id=\"T_77203_level0_row5\" class=\"row_heading level0 row5\" >5</th>\n",
       "      <td id=\"T_77203_row5_col0\" class=\"data row5 col0\" >541236</td>\n",
       "      <td id=\"T_77203_row5_col1\" class=\"data row5 col1\" >tomzhang</td>\n",
       "      <td id=\"T_77203_row5_col2\" class=\"data row5 col2\" >41986369</td>\n",
       "      <td id=\"T_77203_row5_col3\" class=\"data row5 col3\" >pingcap/tidb</td>\n",
       "      <td id=\"T_77203_row5_col4\" class=\"data row5 col4\" >2015-09-06 04:17:26</td>\n",
       "      <td id=\"T_77203_row5_col5\" class=\"data row5 col5\" >2015-09-01</td>\n",
       "    </tr>\n",
       "    <tr>\n",
       "      <th id=\"T_77203_level0_row6\" class=\"row_heading level0 row6\" >6</th>\n",
       "      <td id=\"T_77203_row6_col0\" class=\"data row6 col0\" >1782276</td>\n",
       "      <td id=\"T_77203_row6_col1\" class=\"data row6 col1\" >FlamingTree</td>\n",
       "      <td id=\"T_77203_row6_col2\" class=\"data row6 col2\" >41986369</td>\n",
       "      <td id=\"T_77203_row6_col3\" class=\"data row6 col3\" >pingcap/tidb</td>\n",
       "      <td id=\"T_77203_row6_col4\" class=\"data row6 col4\" >2015-09-06 04:17:45</td>\n",
       "      <td id=\"T_77203_row6_col5\" class=\"data row6 col5\" >2015-09-01</td>\n",
       "    </tr>\n",
       "    <tr>\n",
       "      <th id=\"T_77203_level0_row7\" class=\"row_heading level0 row7\" >7</th>\n",
       "      <td id=\"T_77203_row7_col0\" class=\"data row7 col0\" >14066328</td>\n",
       "      <td id=\"T_77203_row7_col1\" class=\"data row7 col1\" >nengwang</td>\n",
       "      <td id=\"T_77203_row7_col2\" class=\"data row7 col2\" >41986369</td>\n",
       "      <td id=\"T_77203_row7_col3\" class=\"data row7 col3\" >pingcap/tidb</td>\n",
       "      <td id=\"T_77203_row7_col4\" class=\"data row7 col4\" >2015-09-06 04:18:10</td>\n",
       "      <td id=\"T_77203_row7_col5\" class=\"data row7 col5\" >2015-09-01</td>\n",
       "    </tr>\n",
       "    <tr>\n",
       "      <th id=\"T_77203_level0_row8\" class=\"row_heading level0 row8\" >8</th>\n",
       "      <td id=\"T_77203_row8_col0\" class=\"data row8 col0\" >1468284</td>\n",
       "      <td id=\"T_77203_row8_col1\" class=\"data row8 col1\" >se77en</td>\n",
       "      <td id=\"T_77203_row8_col2\" class=\"data row8 col2\" >41986369</td>\n",
       "      <td id=\"T_77203_row8_col3\" class=\"data row8 col3\" >pingcap/tidb</td>\n",
       "      <td id=\"T_77203_row8_col4\" class=\"data row8 col4\" >2015-09-06 04:19:55</td>\n",
       "      <td id=\"T_77203_row8_col5\" class=\"data row8 col5\" >2015-09-01</td>\n",
       "    </tr>\n",
       "    <tr>\n",
       "      <th id=\"T_77203_level0_row9\" class=\"row_heading level0 row9\" >9</th>\n",
       "      <td id=\"T_77203_row9_col0\" class=\"data row9 col0\" >773853</td>\n",
       "      <td id=\"T_77203_row9_col1\" class=\"data row9 col1\" >c4pt0r</td>\n",
       "      <td id=\"T_77203_row9_col2\" class=\"data row9 col2\" >41986369</td>\n",
       "      <td id=\"T_77203_row9_col3\" class=\"data row9 col3\" >pingcap/tidb</td>\n",
       "      <td id=\"T_77203_row9_col4\" class=\"data row9 col4\" >2015-09-06 04:20:56</td>\n",
       "      <td id=\"T_77203_row9_col5\" class=\"data row9 col5\" >2015-09-01</td>\n",
       "    </tr>\n",
       "  </tbody>\n",
       "</table>\n"
      ],
      "text/plain": [
       "<pandas.io.formats.style.Styler at 0x7f322f72ef28>"
      ]
     },
     "execution_count": 22,
     "metadata": {},
     "output_type": "execute_result"
    }
   ],
   "source": [
    "query(\"\"\"\n",
    "  SELECT\n",
    "    actor_id,\n",
    "    actor_login,\n",
    "    repo_id,\n",
    "    repo_name,\n",
    "    created_at,\n",
    "    DATE_FORMAT(created_at, '%Y-%m-01') as event_month\n",
    "  FROM\n",
    "    github_events\n",
    "  WHERE\n",
    "    type = 'WatchEvent'\n",
    "    AND repo_name = 'pingcap/tidb'\n",
    "  ORDER BY created_at\n",
    "  LIMIT 10\n",
    "\"\"\")"
   ]
  },
  {
   "cell_type": "code",
   "execution_count": null,
   "metadata": {},
   "outputs": [],
   "source": [
    "query(\"\"\"\n",
    "  -- 请尝试在空白处编写一个 SQL 语句来实现上述需求，并执行查看结果\n",
    "\n",
    "\n",
    "\n",
    "\n",
    "\n",
    "\n",
    "\n",
    "\n",
    "\n",
    "\n",
    "\n",
    "\n",
    "\n",
    "\n",
    "\"\"\")"
   ]
  },
  {
   "cell_type": "markdown",
   "metadata": {},
   "source": [
    "#### 答案\n",
    "\n",
    "我们可以利用[窗口函数](https://docs.pingcap.com/zh/tidb/stable/window-functions)来实现这一个需求。窗口函数通常也被称为 “OLAP 函数”，又或者是 “开窗函数”。\n",
    "\n",
    "例如，在下面的 SQL 语句当中，我们通过 `OVER` 语句定义窗口的范围，TiDB 会将数据行按照 `created_at` 列进行排序，然后对这些数据行按顺序扫描，将当前行之前的所有行作为一个窗口。\n",
    "\n",
    "随着扫描的行数越多，窗口也会逐步扩大。对于每个窗口都会执行一次聚合函数 `COUNT(1)` 来统计窗口内的事件总数，从而可以得到一组随着时间累积增长的统计数据。"
   ]
  },
  {
   "cell_type": "code",
   "execution_count": 7,
   "metadata": {
    "slideshow": {
     "slide_type": "slide"
    }
   },
   "outputs": [],
   "source": [
    "query(\"\"\"\n",
    "SELECT\n",
    "    created_at,\n",
    "    COUNT(1) OVER (ORDER BY created_at) AS stars\n",
    "FROM\n",
    "    github_events\n",
    "WHERE\n",
    "    type = 'WatchEvent'\n",
    "    AND repo_name = 'pingcap/tidb'\n",
    "ORDER BY created_at\n",
    "LIMIT 100;\n",
    "\"\"\");"
   ]
  },
  {
   "cell_type": "markdown",
   "metadata": {},
   "source": [
    "在这个基础之上，我们进行一个按月聚合，使用 `DATE_FORMAT('%Y-%m-01')` 函数将同一个月的事件记录进行分组统计。"
   ]
  },
  {
   "cell_type": "code",
   "execution_count": 8,
   "metadata": {},
   "outputs": [],
   "source": [
    "query(\"\"\"\n",
    "SELECT\n",
    "  event_month, stars\n",
    "FROM (\n",
    "  SELECT\n",
    "    DATE_FORMAT(created_at, '%Y-%m-01') as event_month,\n",
    "    COUNT(1) OVER (ORDER BY DATE_FORMAT(created_at, '%Y-%m-01')) AS stars,\n",
    "    ROW_NUMBER() OVER (PARTITION BY DATE_FORMAT(created_at, '%Y-%m-01')) AS row_num\n",
    "  FROM\n",
    "    github_events\n",
    "  WHERE\n",
    "    type = 'WatchEvent'\n",
    "    AND repo_name = 'pingcap/tidb'\n",
    "  ORDER BY 1\n",
    ") sub\n",
    "WHERE row_num = 1\n",
    "ORDER BY event_month DESC\n",
    "\"\"\");"
   ]
  },
  {
   "cell_type": "markdown",
   "metadata": {},
   "source": [
    "通过 `EXPLAIN` 语句查看其执行计划："
   ]
  },
  {
   "cell_type": "code",
   "execution_count": 15,
   "metadata": {},
   "outputs": [],
   "source": [
    "query(\"\"\"\n",
    "EXPLAIN ANALYZE SELECT\n",
    "  event_month, stars\n",
    "FROM (\n",
    "  SELECT\n",
    "    DATE_FORMAT(created_at, '%Y-%m-01') as event_month,\n",
    "    COUNT(1) OVER (ORDER BY DATE_FORMAT(created_at, '%Y-%m-01')) AS stars,\n",
    "    ROW_NUMBER() OVER (PARTITION BY DATE_FORMAT(created_at, '%Y-%m-01')) AS row_num\n",
    "  FROM\n",
    "    github_events ge\n",
    "  WHERE\n",
    "    type = 'WatchEvent'\n",
    "    AND repo_name = 'pingcap/tidb'\n",
    "  ORDER BY 1\n",
    ") sub\n",
    "WHERE row_num = 1\n",
    "ORDER BY event_month DESC;\n",
    "\"\"\");"
   ]
  },
  {
   "cell_type": "markdown",
   "metadata": {},
   "source": [
    "#### 创建 TiFlash 副本\n",
    "\n",
    "我们发现对于 OLAP 函数，TiDB 的优化器仍然会使用 TiKV 作为存储引擎进行数据查询。\n",
    "\n",
    "这是因为在默认情况下，TiDB 不会是为 `github_events` 表创建 TiFlash 副本的，你需要手动地进行创建，创建 TiFlash 副本的方法也十分简单，你只需要执行下面这条 SQL 语句，就可以为 `github_events` 表创建一个 TiFlash 副本："
   ]
  },
  {
   "cell_type": "code",
   "execution_count": null,
   "metadata": {},
   "outputs": [],
   "source": [
    "query(\"\"\"\n",
    "ALTER TABLE ossinsight.github_events SET TIFLASH REPLICA 1;\n",
    "\"\"\")"
   ]
  },
  {
   "cell_type": "markdown",
   "metadata": {},
   "source": [
    "执行完上面的 SQL 语句后，TiFlash 会在后台自动地完成副本的创建，你可以通过执行下面的 SQL 语句来查看副本的创建进度："
   ]
  },
  {
   "cell_type": "code",
   "execution_count": 12,
   "metadata": {},
   "outputs": [
    {
     "data": {
      "text/html": [
       "<style type=\"text/css\">\n",
       "#T_5f138_row0_col0, #T_5f138_row0_col1, #T_5f138_row0_col2, #T_5f138_row0_col3, #T_5f138_row0_col4, #T_5f138_row0_col5, #T_5f138_row0_col6, #T_5f138_row0_col7 {\n",
       "  text-align: left;\n",
       "}\n",
       "</style>\n",
       "<table id=\"T_5f138_\">\n",
       "  <thead>\n",
       "    <tr>\n",
       "      <th class=\"blank level0\" >&nbsp;</th>\n",
       "      <th class=\"col_heading level0 col0\" >TABLE_SCHEMA</th>\n",
       "      <th class=\"col_heading level0 col1\" >TABLE_NAME</th>\n",
       "      <th class=\"col_heading level0 col2\" >TABLE_ID</th>\n",
       "      <th class=\"col_heading level0 col3\" >REPLICA_COUNT</th>\n",
       "      <th class=\"col_heading level0 col4\" >LOCATION_LABELS</th>\n",
       "      <th class=\"col_heading level0 col5\" >AVAILABLE</th>\n",
       "      <th class=\"col_heading level0 col6\" >PROGRESS</th>\n",
       "      <th class=\"col_heading level0 col7\" >TABLE_MODE</th>\n",
       "    </tr>\n",
       "  </thead>\n",
       "  <tbody>\n",
       "    <tr>\n",
       "      <th id=\"T_5f138_level0_row0\" class=\"row_heading level0 row0\" >0</th>\n",
       "      <td id=\"T_5f138_row0_col0\" class=\"data row0 col0\" >ossinsight</td>\n",
       "      <td id=\"T_5f138_row0_col1\" class=\"data row0 col1\" >github_events</td>\n",
       "      <td id=\"T_5f138_row0_col2\" class=\"data row0 col2\" >100</td>\n",
       "      <td id=\"T_5f138_row0_col3\" class=\"data row0 col3\" >1</td>\n",
       "      <td id=\"T_5f138_row0_col4\" class=\"data row0 col4\" ></td>\n",
       "      <td id=\"T_5f138_row0_col5\" class=\"data row0 col5\" >1</td>\n",
       "      <td id=\"T_5f138_row0_col6\" class=\"data row0 col6\" >1.000000</td>\n",
       "      <td id=\"T_5f138_row0_col7\" class=\"data row0 col7\" >NORMAL</td>\n",
       "    </tr>\n",
       "  </tbody>\n",
       "</table>\n"
      ],
      "text/plain": [
       "<pandas.io.formats.style.Styler at 0x7faa19fc86d8>"
      ]
     },
     "execution_count": 12,
     "metadata": {},
     "output_type": "execute_result"
    }
   ],
   "source": [
    "query(\"\"\"\n",
    "SELECT * FROM information_schema.tiflash_replica WHERE TABLE_SCHEMA = 'ossinsight' and TABLE_NAME = 'github_events';\n",
    "\"\"\")"
   ]
  },
  {
   "cell_type": "markdown",
   "metadata": {},
   "source": [
    "当 AVAILABLE 状态为 1, PROCESS 进度为 1.0（即 100%）时，表示该表的 TiFlash 副本已经创建完成。"
   ]
  },
  {
   "cell_type": "markdown",
   "metadata": {},
   "source": [
    "#### 再次执行\n",
    "\n",
    "再次执行上面的分析查询语句："
   ]
  },
  {
   "cell_type": "code",
   "execution_count": 14,
   "metadata": {},
   "outputs": [],
   "source": [
    "query(\"\"\"\n",
    "EXPLAIN ANALYZE SELECT\n",
    "  event_month, stars\n",
    "FROM (\n",
    "  SELECT\n",
    "    DATE_FORMAT(created_at, '%Y-%m-01') as event_month,\n",
    "    COUNT(1) OVER (ORDER BY DATE_FORMAT(created_at, '%Y-%m-01')) AS stars,\n",
    "    ROW_NUMBER() OVER (PARTITION BY DATE_FORMAT(created_at, '%Y-%m-01')) AS row_num\n",
    "  FROM\n",
    "    github_events ge\n",
    "  WHERE\n",
    "    type = 'WatchEvent'\n",
    "    AND repo_name = 'pingcap/tidb'\n",
    "  ORDER BY 1\n",
    ") sub\n",
    "WHERE row_num = 1\n",
    "ORDER BY event_month DESC;\n",
    "\"\"\");"
   ]
  },
  {
   "cell_type": "markdown",
   "metadata": {},
   "source": [
    "我们会发现此时的执行计划当中已经出现了 `cop[tiflash]` 的字样，说明此时的查询已经在使用 TiFlash 存储引擎来读取数据。"
   ]
  },
  {
   "cell_type": "markdown",
   "metadata": {},
   "source": [
    "### Example 3: Trends in the growth of the number of robots"
   ]
  },
  {
   "cell_type": "markdown",
   "metadata": {},
   "source": [
    "> 🤔 看上去上面的查询的速度并没有多大的差异？\n",
    "\n",
    "我们来看一下更加复杂的例子，在前面的查询当中，我们只是在查询一个仓库的数据，TiDB 也许还能够借助索引找到一条更高效的基于 TiKV 的执行计划。\n",
    "\n",
    "但是有的时候，我们的数据分析可能并没有这么简单，可能需要同时分析 N 个代码仓库，甚至所有代码仓库的数据。又或者是我们希望能够进行大批量的数据报表统计，这个时候需要扫描更为大量的数据，这时候优化器即便仍然选择了索引查询的方式，查询的效率可能仍然不会很高。"
   ]
  },
  {
   "cell_type": "markdown",
   "metadata": {},
   "source": [
    "首先，我们应用我们在背景知识章节当中学习到的技巧，通过 `/*+ READ_FROM_STORAGE(TIKV[ge]) */` Hints 来告诉优化器在查询 `github_events` 表时强制使用 TiKV 存储引擎："
   ]
  },
  {
   "cell_type": "code",
   "execution_count": 17,
   "metadata": {
    "vscode": {
     "languageId": "sql"
    }
   },
   "outputs": [],
   "source": [
    "query(\"\"\"\n",
    "WITH bots_with_first_seen AS (\n",
    "    SELECT\n",
    "        /*+ READ_FROM_STORAGE(TIKV[ge]) */\n",
    "        actor_login, MIN(YEAR(created_at)) AS first_seen_at\n",
    "    FROM github_events ge\n",
    "    WHERE\n",
    "        actor_login REGEXP '^(bot-.+|.+bot|.+\\\\[bot\\\\]|.+-bot-.+|robot-.+|.+-ci-.+|.+-ci|.+-testing|.+clabot.+|.+-gerrit|k8s-.+|.+-machine|.+-automation|github-.+|.+-github|.+-service|.+-builds|codecov-.+|.+teamcity.+|jenkins-.+|.+-jira-.+)$'\n",
    "    GROUP BY actor_login\n",
    "    ORDER BY first_seen_at\n",
    "),  acc AS (\n",
    "    SELECT\n",
    "        COUNT(actor_login) OVER (ORDER BY first_seen_at) AS cnt,\n",
    "        first_seen_at AS event_year\n",
    "    FROM\n",
    "        bots_with_first_seen AS bwfs\n",
    "    ORDER BY event_year\n",
    ")\n",
    "SELECT ANY_VALUE(cnt) AS bots_total, event_year\n",
    "FROM acc\n",
    "GROUP BY event_year\n",
    "ORDER BY event_year;\n",
    "\"\"\");"
   ]
  },
  {
   "cell_type": "markdown",
   "metadata": {},
   "source": [
    "然后我们通过 `/*+ READ_FROM_STORAGE(TIFLASH[ge]) */` Hints 来强制优化器使用 TiFlash 存储引擎来读取 `github_events` 表，再次执行："
   ]
  },
  {
   "cell_type": "code",
   "execution_count": 18,
   "metadata": {},
   "outputs": [],
   "source": [
    "query(\"\"\"\n",
    "WITH bots_with_first_seen AS (\n",
    "    SELECT\n",
    "        /*+ READ_FROM_STORAGE(TIFLASH[ge]) */\n",
    "        actor_login, MIN(YEAR(created_at)) AS first_seen_at\n",
    "    FROM github_events ge\n",
    "    WHERE\n",
    "        actor_login REGEXP '^(bot-.+|.+bot|.+\\\\[bot\\\\]|.+-bot-.+|robot-.+|.+-ci-.+|.+-ci|.+-testing|.+clabot.+|.+-gerrit|k8s-.+|.+-machine|.+-automation|github-.+|.+-github|.+-service|.+-builds|codecov-.+|.+teamcity.+|jenkins-.+|.+-jira-.+)$'\n",
    "    GROUP BY actor_login\n",
    "    ORDER BY first_seen_at\n",
    "),  acc AS (\n",
    "    SELECT\n",
    "        COUNT(actor_login) OVER (ORDER BY first_seen_at) AS cnt,\n",
    "        first_seen_at AS event_year\n",
    "    FROM\n",
    "        bots_with_first_seen AS bwfs\n",
    "    ORDER BY event_year\n",
    ")\n",
    "SELECT ANY_VALUE(cnt) AS bots_total, event_year\n",
    "FROM acc\n",
    "GROUP BY event_year\n",
    "ORDER BY event_year;\n",
    "\"\"\");"
   ]
  },
  {
   "cell_type": "markdown",
   "metadata": {},
   "source": [
    "在更大数据量的情况下，使用 TiFlash 查询相比 TiKV 查询速度上有了明显的提升。"
   ]
  },
  {
   "cell_type": "markdown",
   "metadata": {},
   "source": [
    "### Example 4: Top Contributor List"
   ]
  },
  {
   "cell_type": "markdown",
   "metadata": {},
   "source": [
    "除了单表查询，更多的时候我们需要将多张表的数据结合在一起进行分析，这个时候我们就需要进行表连接查询。\n",
    "\n",
    "> 如果在一个查询当中需要从多个表中访问数据，TiDB 会怎么进行处理？"
   ]
  },
  {
   "cell_type": "markdown",
   "metadata": {},
   "source": [
    "例如，可以通过下面的 SQL 语句在这些仓库当中，最近一周最活跃的来自中国的 Code Contributors 是哪些人？"
   ]
  },
  {
   "cell_type": "code",
   "execution_count": null,
   "metadata": {},
   "outputs": [],
   "source": [
    "query(\"\"\"\n",
    "SELECT ge.actor_id, gu.login, COUNT(1) AS prs, GROUP_CONCAT(DISTINCT ge.repo_name) AS repos\n",
    "FROM github_events ge\n",
    "JOIN github_users gu ON ge.actor_id = gu.id\n",
    "WHERE\n",
    "    ge.type = 'PullRequestEvent'\n",
    "    AND ge.action = 'opened'\n",
    "    AND ge.created_at > DATE_SUB(NOW(), INTERVAL 1 WEEK) \n",
    "    AND gu.country_code = 'CN'\n",
    "GROUP BY ge.actor_id\n",
    "ORDER BY prs DESC\n",
    "LIMIT 20\n",
    "\"\"\")"
   ]
  },
  {
   "cell_type": "markdown",
   "metadata": {},
   "source": [
    "查看其执行计划："
   ]
  },
  {
   "cell_type": "code",
   "execution_count": null,
   "metadata": {},
   "outputs": [],
   "source": [
    "query(\"\"\"\n",
    "EXPLAIN ANALYZE SELECT ge.actor_id, gu.login, COUNT(1) AS prs, GROUP_CONCAT(DISTINCT ge.repo_name) AS repos\n",
    "FROM github_events ge\n",
    "JOIN github_users gu ON ge.actor_id = gu.id\n",
    "WHERE\n",
    "    ge.type = 'PullRequestEvent'\n",
    "    AND ge.action = 'opened'\n",
    "    AND ge.created_at > DATE_SUB(NOW(), INTERVAL 1 WEEK) \n",
    "    AND gu.country_code = 'CN'\n",
    "GROUP BY ge.actor_id\n",
    "ORDER BY prs DESC\n",
    "LIMIT 20\n",
    "\"\"\")"
   ]
  },
  {
   "cell_type": "markdown",
   "metadata": {},
   "source": [
    "如果把日期范围条件 `ge.created_at > DATE_SUB(NOW(), INTERVAL 1 WEEK)` 去掉，查询在整个时间段内最活跃的来自中国的 Code Contributors："
   ]
  },
  {
   "cell_type": "code",
   "execution_count": null,
   "metadata": {},
   "outputs": [],
   "source": [
    "query(\"\"\"\n",
    "SELECT ge.actor_id, gu.login, COUNT(1) AS prs, GROUP_CONCAT(DISTINCT ge.repo_name) AS repos\n",
    "FROM github_events ge\n",
    "JOIN github_users gu ON ge.actor_id = gu.id\n",
    "WHERE\n",
    "    ge.type = 'PullRequestEvent'\n",
    "    AND ge.action = 'opened'\n",
    "    AND gu.country_code = 'CN'\n",
    "GROUP BY ge.actor_id\n",
    "ORDER BY prs DESC\n",
    "LIMIT 20\n",
    "\"\"\")"
   ]
  },
  {
   "cell_type": "markdown",
   "metadata": {},
   "source": [
    "查看其执行计划："
   ]
  },
  {
   "cell_type": "code",
   "execution_count": null,
   "metadata": {},
   "outputs": [],
   "source": [
    "query(\"\"\"\n",
    "EXPLAIN ANALYZE SELECT ge.actor_id, gu.login, COUNT(1) AS prs, GROUP_CONCAT(DISTINCT ge.repo_name) AS repos\n",
    "FROM github_events ge\n",
    "JOIN github_users gu ON ge.actor_id = gu.id\n",
    "WHERE\n",
    "    ge.type = 'PullRequestEvent'\n",
    "    AND ge.action = 'opened'\n",
    "    AND gu.country_code = 'CN'\n",
    "GROUP BY ge.actor_id\n",
    "ORDER BY prs DESC\n",
    "LIMIT 20\n",
    "\"\"\")"
   ]
  },
  {
   "cell_type": "markdown",
   "metadata": {},
   "source": [
    "通过对比前后两次查询的执行计划，可以发现优化器会根据查询所设置的数据量的不同，智能的选择是使用能够利用索引能力的 TiKV 还是使用能够胜任大量数据快速扫描的 TiFlash 来查询数据。\n",
    "\n",
    "通过优化器，TiDB 已经为我们智能地决定在何时何表使用何种存储引擎效率更高，这很大程度地能减轻了编写 SQL 时的工作量，让我们将注意力更好地聚焦到我们的实际业务当中。"
   ]
  },
  {
   "cell_type": "markdown",
   "metadata": {},
   "source": [
    "## 图表可视化\n",
    "\n",
    "\n"
   ]
  },
  {
   "cell_type": "markdown",
   "metadata": {},
   "source": [
    "在上面的章节当中，我们已经掌握了通过 SQL 语句来进行简单的数据分析，现在，我们可以使用各种 BI 工具或者前端图表框架来将 SQL 语句查询到的数据结果进行可视化。\n",
    "\n",
    "你可以通过 [Data visualization tools for application developers](https://awesome.cube.dev/) 到这些工具的集合。\n",
    "\n",
    "这里我们以 [Grafana Cloud](https://grafana.com/products/cloud/) 为例，介绍如何将 TiDB Cloud Serverless tier 与其他数据可视化工具进行集成。\n"
   ]
  },
  {
   "cell_type": "markdown",
   "metadata": {},
   "source": [
    "### 创建账号\n",
    "\n",
    "你可以通过你的 GitHub 账号快速[注册](https://grafana.com/auth/sign-up/create-user)一个 Grafana Cloud 账号。\n",
    "\n",
    "在其 Overview 页面，可以在 Grafana 实例的卡片当中点击 “Lauch”按钮来启动一个 Grafana 实例。"
   ]
  },
  {
   "cell_type": "markdown",
   "metadata": {},
   "source": [
    "### 连接 TiDB Cloud"
   ]
  },
  {
   "cell_type": "markdown",
   "metadata": {},
   "source": [
    "在进入到 Grafana 的管理界面时，我们可以点击左侧菜单中的 “Configuration” > “Data sources” 菜单项进入到数据源配置页面。\n",
    "\n",
    "<center>\n",
    "    <img width=\"200\" alt=\"image\" src=\"https://user-images.githubusercontent.com/88522432/205971297-ab1b822a-2461-445c-8f85-99a5f834dc7d.png\">\n",
    "    <p><i>Data source config entry</i></p>\n",
    "</center>\n",
    "\n",
    "添加新的 Data Source，Data Source 的类型可以选择使用 “MySQL”。\n",
    "\n",
    "<center>\n",
    "    <img width=\"600\" alt=\"image\" src=\"https://user-images.githubusercontent.com/88522432/205973144-85da8262-7efd-4762-b958-6b710a6f1c43.png\">\n",
    "    <p><i>Add data source</i></p>\n",
    "</center>\n",
    "\n",
    "将 TiDB Cloud Serverless Tier 集群的连接信息填写到对应的位置。\n",
    "\n",
    "因为 Serverless Tier 要求必须使用 TLS 连接，因此还需要勾选 “With CA Cert” 选项，然后将受信任的 CA 证书填写到文本框当中（例如：[isrgrootx1.pem.txt](https://letsencrypt.org/certs/isrgrootx1.pem.txt)）。\n",
    "\n",
    "<center>\n",
    "    <img width=\"540\" alt=\"image\" src=\"https://user-images.githubusercontent.com/88522432/205973887-a1fb69be-2d0d-4166-b234-61d17a1196a2.png\">\n",
    "    <p><i>Config data source</i></p>\n",
    "</center>"
   ]
  },
  {
   "cell_type": "markdown",
   "metadata": {},
   "source": [
    "### 新建 Dashboard\n",
    "\n",
    "点击左侧菜单中 “New Dashboard” 按钮以创建一个新的 Dashboard。\n",
    "\n",
    "<center>\n",
    "    <img width=\"254\" alt=\"image\" src=\"https://user-images.githubusercontent.com/88522432/205975900-472c39c4-7eb2-45a4-b928-cd89567fe6bc.png\">\n",
    "    <p><i>New Dashbaord</i></p>\n",
    "</center>\n",
    "\n",
    "在 Dashboard 上新建创建新的 Panel，然后将数据源选择了上面创建的 “TiDB” 数据库，编写 SQL 语句，执行，然后选择合适的图表用于数据可视化。\n",
    "\n",
    "<center>\n",
    "    <img width=\"1000\" alt=\"image\" src=\"https://user-images.githubusercontent.com/88522432/205977281-234203cc-bf3b-44d3-920e-9b17c077c357.png\">\n",
    "    <p><i>New Panel</i></p>\n",
    "</center>"
   ]
  }
 ],
 "metadata": {
  "kernelspec": {
   "display_name": "Python 3.7.3 64-bit",
   "language": "python",
   "name": "python3"
  },
  "language_info": {
   "codemirror_mode": {
    "name": "ipython",
    "version": 3
   },
   "file_extension": ".py",
   "mimetype": "text/x-python",
   "name": "python",
   "nbconvert_exporter": "python",
   "pygments_lexer": "ipython3",
   "version": "3.7.3"
  },
  "orig_nbformat": 4,
  "vscode": {
   "interpreter": {
    "hash": "31f2aee4e71d21fbe5cf8b01ff0e069b9275f58929596ceb00d14d90e3e16cd6"
   }
  }
 },
 "nbformat": 4,
 "nbformat_minor": 2
}
