{
 "cells": [
  {
   "cell_type": "markdown",
   "metadata": {},
   "source": [
    "## Mini OSS Insight Workshop\n",
    "\n",
    "👏 欢迎来到 Mini OSS Insight 的 Workshop!\n",
    "\n",
    "这是关于 Workshop 的完整指南，你可以通过阅读该指南一步一步地搭建起一个 Mini 版的 OSS Insight，并在过程掌握一些使用 TiDB / TiDB Cloud 进行数据分析的技巧。"
   ]
  },
  {
   "cell_type": "markdown",
   "metadata": {
    "slideshow": {
     "slide_type": "slide"
    }
   },
   "source": [
    "### 准备\n",
    "\n",
    "在开始之前，你需要确保在你的开发环境中已经安装了以下软件/工具：\n",
    "\n",
    "- 可供连接的 TiDB 集群 - 用于存储数据的数据库\n",
    "- MyCLI - 连接到 TiDB 集群\n",
    "- Node.js 18.x and above - API Server 的运行时环境\n",
    "- PNPM - Node.js 的包管理器\n",
    "- Python 3.x and pip - Jupyter Notebook 需要的运行时环境\n",
    "\n",
    "#### 1. 启动 TiDB 集群\n",
    "\n",
    "首先, 你需要开启一个 TiDB 集群。你可以通过查看文档 [TiDB Cloud Quick Start](https://docs.pingcap.com/tidbcloud/tidb-cloud-quickstart#step-1-create-a-tidb-cluster) 学习如何创建一个 **Serverless tier** 集群，这可能会需要 20～25s 的时间。\n",
    "\n",
    "在你创建完集群，你可以进入到集群的详情页。在这个页面，你可以在 **Connection** 面板中找到数据库集群的连接信息。\n",
    "\n",
    "<center>\n",
    "  <img align=\"middle\" width=\"800\" alt=\"Serverless Tier Cluster Manage Interface\" src=\"https://user-images.githubusercontent.com/5086433/204476069-0ddbdf6f-419c-4291-b929-ccfbd2f5ea5f.png\">\n",
    "  <p><i>Serverless Tier 集群管理界面</i></p>\n",
    "</center>\n",
    "\n",
    "You can enter to the cluster's security settings window by clicking on the modify menu in the upper right corner of the cluster details page and generate a root user password.\n",
    "\n",
    "<center>\n",
    "  <img width=\"480\" alt=\"The Cluster Modify Menu\" src=\"https://user-images.githubusercontent.com/85985765/204876779-3a4c6ac4-8814-47cd-b82a-40eb5e4d8f96.png\">\n",
    "  <p><i>The Cluster Modify Menu</i></p>\n",
    "</center>\n",
    "\n",
    "<center>\n",
    "  <img width=\"720\" alt=\"Security Settings\" src=\"https://user-images.githubusercontent.com/85985765/204877348-5c3e9012-f7bf-42e9-8a03-fd9f14bfc826.png\">\n",
    "  <p><i>Security Settings</i></p>\n",
    "</center>\n",
    "\n",
    "#### 3. 个人 GitHub 的 Access Token\n",
    "\n",
    "You need to prepare a personal access token to allow the application to access the data through the GitHub API.\n",
    "\n",
    "> **Note**\n",
    ">\n",
    "> If you are viewing this document from GitHub codespace, you can skip this step because `GITHUB_TOKEN` is set by default in the codespace environment.\n",
    ">  \n",
    "\n",
    "You can learn how to generate one by reading: [Creating a personal access token](https://docs.github.com/en/authentication/keeping-your-account-and-data-secure/creating-a-personal-access-token). Or just click this [link](https://github.com/settings/personal-access-tokens/new) to generate your personal access token quickly.\n",
    "\n",
    "<center>\n",
    "  <img align=\"middle\" width=\"800\" alt=\"Create a New GitHub Personal Access Token\" src=\"https://user-images.githubusercontent.com/5086433/204564273-93cccbe4-d10a-4d1b-a9d1-112a1144712a.png\">\n",
    "  <p><i>Create a new GitHub personal access token</i></p>\n",
    "</center>\n"
   ]
  },
  {
   "cell_type": "markdown",
   "metadata": {},
   "source": [
    "#### 4. 设置环境变量\n"
   ]
  },
  {
   "cell_type": "code",
   "execution_count": 3,
   "metadata": {},
   "outputs": [
    {
     "name": "stdout",
     "output_type": "stream",
     "text": [
      "Setup successfully!\n"
     ]
    }
   ],
   "source": [
    "import getpass\n",
    "import os\n",
    "\n",
    "api_server_dot_env=\"./packages/api-server/.env\"\n",
    "if os.path.exists(api_server_dot_env): \n",
    "    con = input(api_server_dot_env + \" file already exists, do you want to overwrite it? (y/n) [y]\")\n",
    "    if con != 'y':\n",
    "        exit();\n",
    "\n",
    "# Config GitHub personal access token.\n",
    "github_token = \"\"\n",
    "if os.getenv('GITHUB_TOKEN') is None:\n",
    "    github_token = getpass.getpass(prompt='Enter your personal access token of GitHub: ')\n",
    "else:\n",
    "    github_token = os.getenv('GITHUB_TOKEN')\n",
    "\n",
    "# Config database connection.\n",
    "db_endpoint = input(\"The endpoint of TiDB cluster: \")\n",
    "db_port = input(\"The port of TiDB cluster [4000]: \")\n",
    "\n",
    "if db_port == \"\":\n",
    "    db_port = \"4000\"\n",
    "\n",
    "db_username = input(\"The username of TiDB cluster: \")\n",
    "db_password = getpass.getpass(prompt='Enter the password of TiDB cluster: ')\n",
    "db_name = \"ossinsight\"\n",
    "db_enable_ssl = input(\"Enable ssl connection to the TiDB cluster? (y/n) [y]\") or \"y\"\n",
    "db_ssl_config='&ssl={\"minVersion\":\"TLSv1.2\"}'\n",
    "if db_enable_ssl == \"n\":\n",
    "    db_ssl_config = \"\"\n",
    "\n",
    "api_database_url = \"mysql://{}:{}@{}:{}/{}?connectionLimit=100&queueLimit=10000{}\\n\".format(\n",
    "    db_username, db_password, db_endpoint, db_port, db_name, db_ssl_config\n",
    ")\n",
    "\n",
    "etl_database_url = \"tidb://{}:{}@{}:{}/{}\".format(\n",
    "    db_username, db_password, db_endpoint, db_port, db_name\n",
    ")\n",
    "\n",
    "os.system(\"gh secret set DB_ENDPOINT --body \\\"\" + db_endpoint + \"\\\" -a codespaces --repo ${GITHUB_REPOSITORY}\")\n",
    "os.system(\"gh secret set DB_PORT --body \\\"\" + db_port + \"\\\" -a codespaces --repo ${GITHUB_REPOSITORY}\")\n",
    "os.system(\"gh secret set DB_USERNAME --body \\\"\" + db_username + \"\\\" -a codespaces --repo ${GITHUB_REPOSITORY}\")\n",
    "os.system(\"gh secret set DB_PASSWORD --body \\\"\" + db_password + \"\\\" -a codespaces --repo ${GITHUB_REPOSITORY}\")\n",
    "os.system(\"gh secret set DB_NAME --body \\\"\" + db_name + \"\\\" -a codespaces --repo ${GITHUB_REPOSITORY}\")\n",
    "os.system(\"gh secret set DB_ENABLE_SSL --body \\\"\" + db_enable_ssl + \"\\\" -a codespaces --repo ${GITHUB_REPOSITORY}\")\n",
    "os.system(\"gh secret set API_DATABASE_URL --body \\\"\" + api_database_url + \"\\\" -a codespaces --repo ${GITHUB_REPOSITORY}\")\n",
    "os.system(\"gh secret set ETL_DATABASE_URL --body \\\"\" + etl_database_url + \"\\\" -a codespaces --repo ${GITHUB_REPOSITORY}\")\n",
    "\n",
    "# Write to ./packages/api-server/.env file.\n",
    "with open(api_server_dot_env, \"w\") as file:\n",
    "    file.write(\n",
    "        \"DATABASE_URL={}\".format(api_database_url)\n",
    "    )\n",
    "    file.write(\"ENABLE_CACHE=false\\n\")\n",
    "    file.write(\"GITHUB_ACCESS_TOKENS={}\\n\".format(github_token))\n",
    "\n",
    "print(\"Setup successfully!\")"
   ]
  },
  {
   "cell_type": "markdown",
   "metadata": {},
   "source": [
    "#### 5. 验证是否能够连接到 TiDB 集群\n",
    "\n",
    "在终端上执行下面的 SQL 语句验证是否能够连接到 TiDB 集群\n",
    "\n",
    "```bash\n",
    "mycli -h ${DB_ENDPOINT} -P ${DB_PORT} -u ${DB_USERNAME} -p ${DB_PASSWORD} -D test \\\n",
    "    --ssl-ca=/etc/ssl/certs/ca-certificates.crt \\\n",
    "    --ssl-verify-server-cert \\\n",
    "     -e 'SELECT tidb_version()\\G'\n",
    "```\n",
    "\n",
    "如果成功执行，你会看到 TiDB 集群的版本信息：\n",
    "\n",
    "```\n",
    "tidb_version()\n",
    "Release Version: v6.3.0-serverless\n",
    "Edition: Community\n",
    "Git Commit Hash: e87c16b215d518aed4921b8ef3b13e90e3ed6e2d\n",
    "Git Branch: release-6.3-serverless\n",
    "UTC Build Time: 2022-11-25 09:31:28\n",
    "GoVersion: go1.19\n",
    "Race Enabled: false\n",
    "TiKV Min Version: 6.1.0\n",
    "Check Table Before Drop: false\n",
    "Store: tikv\n",
    "```"
   ]
  },
  {
   "cell_type": "markdown",
   "metadata": {},
   "source": [
    "### 加载数据\n",
    "\n",
    "GitHub 成立于 2008 年，在 2011 年二月份的时候，GitHub 提供了一个 `https://api.github.com/events` 接口来对外输出网站上的公开事件数据。\n",
    "\n",
    "> **GitHub API 文档**\n",
    "> \n",
    "> Link: https://docs.github.com/en/rest/activity/events\n",
    ">\n"
   ]
  },
  {
   "cell_type": "code",
   "execution_count": null,
   "metadata": {},
   "outputs": [],
   "source": [
    "!curl -s \\\n",
    "  -H \"Accept: application/vnd.github.v3+json\" \\\n",
    "  -H \"Authorization: token $GITHUB_TOKEN\" \\\n",
    "  https://api.github.com/events"
   ]
  },
  {
   "cell_type": "markdown",
   "metadata": {},
   "source": [
    "OSS Insight 已经收集了超过 53 亿条公开事件数据，你可以通过访问 API 或在网站上查看当前的事件总数："
   ]
  },
  {
   "cell_type": "code",
   "execution_count": 11,
   "metadata": {},
   "outputs": [
    {
     "name": "stdout",
     "output_type": "stream",
     "text": [
      "\u001b[1;39m{\n",
      "  \u001b[0m\u001b[34;1m\"cnt\"\u001b[0m\u001b[1;39m: \u001b[0m\u001b[0;39m5319456119\u001b[0m\u001b[1;39m,\n",
      "  \u001b[0m\u001b[34;1m\"latest_created_at\"\u001b[0m\u001b[1;39m: \u001b[0m\u001b[0;32m\"2022-12-01T19:18:00.000Z\"\u001b[0m\u001b[1;39m,\n",
      "  \u001b[0m\u001b[34;1m\"latest_timestamp\"\u001b[0m\u001b[1;39m: \u001b[0m\u001b[0;39m1669922280\u001b[0m\u001b[1;39m\n",
      "\u001b[1;39m}\u001b[0m\n"
     ]
    }
   ],
   "source": [
    "!curl -s https://api.ossinsight.io/q/events-total | jq -r \".data[0]\""
   ]
  },
  {
   "cell_type": "markdown",
   "metadata": {},
   "source": [
    "#### 导入实时数据\n",
    "\n",
    "通过 [GitHub 的 API 文档](https://docs.github.com/en/rest/activity/events), 我们知道可以通过请求 `/events` API 来获取准实时的 events 数据。你可以执行下面的命令查看这个接口返回数据的结构："
   ]
  },
  {
   "cell_type": "code",
   "execution_count": null,
   "metadata": {},
   "outputs": [],
   "source": [
    "%%!\n",
    "\n",
    "docker-compose pull\n",
    "docker-compose up etl"
   ]
  },
  {
   "cell_type": "markdown",
   "metadata": {
    "slideshow": {
     "slide_type": "slide"
    }
   },
   "source": [
    "#### 导入历史数据\n",
    "\n",
    "由于通过 `/events` API 我们无法完全获取到所有的历史数据, 在 OSS Insight 的数据准备阶段，我们利用了 [GH Archive](https://gharchive.org) 上归档数据，将其导入数据库当中.\n",
    "\n",
    "| Query | Downloadable Files |\n",
    "| ---- | ---- |\n",
    "| Activity for 1/1/2015 @ 3PM UTC |\t`https://data.gharchive.org/2015-01-01-15.json.gz` |\n",
    "| Activity for 1/1/2015 | `https://data.gharchive.org/2015-01-01-{0..23}.json.gz` |\n",
    "| Activity for all of January 2015 | `https://data.gharchive.org/2015-01-{01..31}-{0..23}.json.gz` |\n",
    "\n",
    "为了方便演示我们在 AWS S3 上保存了一份示例数据，你可以使用 TiDB Cloud 的 Import 功能将其导入数据库当中：\n",
    "\n",
    "S3 URI:\n",
    "\n",
    "```\n",
    "s3://ossinsight/workshop/oss_database_sample/\n",
    "```\n",
    "\n",
    "Role ARN:\n",
    "\n",
    "```\n",
    "arn:aws:iam::494090988690:role/tidb-cloud-reader\n",
    "```"
   ]
  },
  {
   "cell_type": "markdown",
   "metadata": {},
   "source": [
    "## 一些背景知识"
   ]
  },
  {
   "cell_type": "markdown",
   "metadata": {},
   "source": [
    "#### 优化器\n",
    "\n",
    "SQL 是一种声明式语言，而非过程性的语言。也就是说，它描述的是最终结果应该如何，而非按顺序执行的步骤。因此在 TiDB 在处理 SQL 语句的过程中，除了要确保能够正确返回语句所描述的最终结果，还要确定 SQL 语句的执行过程，并且尽可能的对 SQL 语句进行性能优化，从而得到最佳的执行计划。\n",
    "\n",
    "SQL 性能优化的过程，可以理解为 GPS 导航的过程。你提供地址后，GPS 软件利用各种统计信息（例如以前的行程、速度限制等元数据，以及实时交通信息）规划出一条最省时的路线。这与 TiDB 中的 SQL 性能优化过程相对应。\n",
    "\n",
    "我们通常会把负责这部分 SQL 优化工作的组件成为**优化器（Optimizer）**。\n",
    "\n",
    "如下图所示，一条 SQL 语句在经过语法解析和校验之后，经过优化器的逻辑优化和物理优化来制定最终的执行计划，交给执行器（Executor）去执行。和 GPS 软件一样，优化器在进行执行计划规划的时候也会利用到一些统计信息来进行评估。\n",
    "\n",
    "<center>\n",
    "  <img width=\"640\" alt=\"The Cluster Modify Menu\" src=\"https://user-images.githubusercontent.com/85985765/205136445-3d9dd676-56bc-4f75-bf6d-cdb1af8c1b79.png\">\n",
    "  <p><i>SQL 优化流程图</i></p>\n",
    "</center>\n",
    "\n",
    "上图其实是一个简化的示意图，因为它只描述了以 TiKV 为存储引擎的情况。但是在 TiDB 支持 HTAP 能力后，引进了负责分析负载的 TiFlash 存储引擎。这给优化器带来了新的挑战，优化器需要在制定执行计划和进行物理\n",
    "优化时需要考虑：\n",
    "\n",
    "> 这条 SQL 应该使用哪个存储引擎执行性能会更好，选 TiKV 还是 TiFlash？"
   ]
  },
  {
   "cell_type": "markdown",
   "metadata": {},
   "source": [
    "#### Optimizer Hints\n",
    "\n",
    "> 如果优化器难以抉择，那我们不妨给它一点提示，告诉它我们希望使用哪种存储引擎执行?\n",
    "\n",
    "TiDB 的优化器提供了 `READ_FROM_STORAGE` Hint 来允许开发者在 SQL 语句级别来控制哪一张表应该使用哪个执行引擎去执行。例如，下在面这条 SQL 语句当中，TiDB 从 TiFlash 上读取 t1 表的数据，在 TiKV 上读取 t2 的数据。\n",
    "\n",
    "```sql\n",
    "SELECT /*+ READ_FROM_STORAGE(TIFLASH[t1], TIKV[t2]) */ t1.a FROM t t1, t t2 WHERE t1.a = t2.a;\n",
    "```"
   ]
  },
  {
   "cell_type": "markdown",
   "metadata": {},
   "source": [
    "#### 代价模型\n",
    "\n",
    "> 使用 Optimizer Hints 很简单，但是有没有更智能的方法，特别是在做临时查询时，优化器能否智能的选择应该使用哪种引擎查询效率最高？\n",
    "\n",
    "<center>\n",
    "  <img width=\"640\" alt=\"物理优化中的代码模型\" src=\"https://user-images.githubusercontent.com/85985765/205192450-c23f2199-1ab1-41d2-90f3-c17c5d6e252e.png\">\n",
    "  <p><i>SQL 优化流程图</i></p>\n",
    "</center>\n",
    "\n",
    "TiDB v6.2.0 引入了新的代价模型 Cost Model Version 2。\n",
    "\n",
    "Cost Model Version 2 对代价公式进行了更精确的回归校准，调整了部分代价公式，比此前版本的代价公式更加准确。\n",
    "\n",
    "OSS Insight 使用了该版本的 Cost Model, 但是因为目前 Cost Model Version 2 还处于实验阶段，需要通过执行以下 SQL 语句进行启用："
   ]
  },
  {
   "cell_type": "code",
   "execution_count": null,
   "metadata": {
    "vscode": {
     "languageId": "shellscript"
    }
   },
   "outputs": [],
   "source": [
    "set global tidb_enable_new_cost_interface = 'ON';\n",
    "set global tidb_cost_model_version = 2;"
   ]
  },
  {
   "cell_type": "markdown",
   "metadata": {},
   "source": [
    "在后续版本当中，Cost Model Version 2 会替代掉原有的 Cost Model 作为默认的代码模型。"
   ]
  },
  {
   "cell_type": "markdown",
   "metadata": {},
   "source": [
    "## Demo SQL\n",
    "\n"
   ]
  },
  {
   "cell_type": "markdown",
   "metadata": {},
   "source": [
    "#### Example 1\n"
   ]
  },
  {
   "cell_type": "code",
   "execution_count": null,
   "metadata": {
    "vscode": {
     "languageId": "shellscript"
    }
   },
   "outputs": [],
   "source": [
    "SELECT * FROM github_events WHERE actor_login = 'ti-chi-bot' LIMIT 1;"
   ]
  },
  {
   "cell_type": "code",
   "execution_count": null,
   "metadata": {
    "vscode": {
     "languageId": "shellscript"
    }
   },
   "outputs": [],
   "source": [
    "EXPLAIN SELECT * FROM github_events WHERE actor_login = 'ti-chi-bot' LIMIT 1;"
   ]
  },
  {
   "cell_type": "markdown",
   "metadata": {},
   "source": [
    "#### Example 2"
   ]
  },
  {
   "cell_type": "code",
   "execution_count": null,
   "metadata": {
    "vscode": {
     "languageId": "sql"
    }
   },
   "outputs": [],
   "source": [
    "SELECT\n",
    "  event_month, stars\n",
    "FROM (\n",
    "  SELECT\n",
    "    date_format(created_at, '%Y-%m-01') as event_month,\n",
    "    COUNT(1) OVER (ORDER BY date_format(created_at, '%Y-%m-01')) AS stars,\n",
    "    ROW_NUMBER() OVER (PARTITION BY date_format(created_at, '%Y-%m-01')) AS row_num\n",
    "  FROM\n",
    "    github_events\n",
    "  WHERE\n",
    "    type = 'WatchEvent'\n",
    "    AND repo_id = 41986369\n",
    "  ORDER BY 1\n",
    ") sub\n",
    "WHERE row_num = 1\n",
    ";"
   ]
  },
  {
   "cell_type": "markdown",
   "metadata": {},
   "source": [
    "#### Example 3"
   ]
  },
  {
   "cell_type": "code",
   "execution_count": null,
   "metadata": {
    "vscode": {
     "languageId": "sql"
    }
   },
   "outputs": [],
   "source": [
    "WITH bots_with_first_seen AS (\n",
    "    SELECT\n",
    "        actor_login, MIN(YEAR(created_at)) AS first_seen_at\n",
    "    FROM github_events ge\n",
    "    WHERE\n",
    "        actor_login REGEXP '^(bot-.+|.+bot|.+\\\\[bot\\\\]|.+-bot-.+|robot-.+|.+-ci-.+|.+-ci|.+-testing|.+clabot.+|.+-gerrit|k8s-.+|.+-machine|.+-automation|github-.+|.+-github|.+-service|.+-builds|codecov-.+|.+teamcity.+|jenkins-.+|.+-jira-.+)$'\n",
    "    GROUP BY actor_login\n",
    "    ORDER BY first_seen_at\n",
    "),  acc AS (\n",
    "    SELECT\n",
    "        COUNT(actor_login) OVER (ORDER BY first_seen_at) AS cnt,\n",
    "        first_seen_at AS event_year\n",
    "    FROM\n",
    "        bots_with_first_seen AS bwfs\n",
    "    ORDER BY event_year\n",
    ")\n",
    "SELECT ANY_VALUE(cnt) AS bots_total, event_year\n",
    "FROM acc\n",
    "GROUP BY event_year\n",
    "ORDER BY event_year;"
   ]
  },
  {
   "cell_type": "markdown",
   "metadata": {},
   "source": [
    "开启 TiFlash 副本"
   ]
  },
  {
   "cell_type": "code",
   "execution_count": null,
   "metadata": {
    "vscode": {
     "languageId": "sql"
    }
   },
   "outputs": [],
   "source": [
    "ALTER TABLE ossinsight.github_events SET TIFLASH REPLICA 1;"
   ]
  },
  {
   "cell_type": "code",
   "execution_count": null,
   "metadata": {
    "vscode": {
     "languageId": "sql"
    }
   },
   "outputs": [],
   "source": [
    "SELECT * FROM information_schema.tiflash_replica WHERE TABLE_SCHEMA = 'ossinsight' and TABLE_NAME = 'github_events';"
   ]
  },
  {
   "cell_type": "markdown",
   "metadata": {},
   "source": [
    "再次执行 Example 3 中的查询语句："
   ]
  },
  {
   "cell_type": "code",
   "execution_count": null,
   "metadata": {
    "vscode": {
     "languageId": "sql"
    }
   },
   "outputs": [],
   "source": [
    "WITH bots_with_first_seen AS (\n",
    "    SELECT\n",
    "        actor_login, MIN(event_year) AS first_seen_at\n",
    "    FROM github_events ge\n",
    "    WHERE\n",
    "        actor_login REGEXP '^(bot-.+|.+bot|.+\\\\[bot\\\\]|.+-bot-.+|robot-.+|.+-ci-.+|.+-ci|.+-testing|.+clabot.+|.+-gerrit|k8s-.+|.+-machine|.+-automation|github-.+|.+-github|.+-service|.+-builds|codecov-.+|.+teamcity.+|jenkins-.+|.+-jira-.+)$'\n",
    "    GROUP BY actor_login\n",
    "    ORDER BY first_seen_at\n",
    "),  acc AS (\n",
    "    SELECT\n",
    "        COUNT(actor_login) OVER (ORDER BY first_seen_at) AS cnt,\n",
    "        first_seen_at AS event_year\n",
    "    FROM\n",
    "        bots_with_first_seen AS bwfs\n",
    "    ORDER BY event_year\n",
    ")\n",
    "SELECT ANY_VALUE(cnt) AS bots_total, event_year\n",
    "FROM acc\n",
    "GROUP BY event_year\n",
    "ORDER BY event_year;"
   ]
  },
  {
   "cell_type": "markdown",
   "metadata": {},
   "source": [
    "#### Example 4"
   ]
  },
  {
   "cell_type": "code",
   "execution_count": null,
   "metadata": {
    "vscode": {
     "languageId": "sql"
    }
   },
   "outputs": [],
   "source": [
    "TODO: "
   ]
  }
 ],
 "metadata": {
  "kernelspec": {
   "display_name": "Python 3.7.3 64-bit",
   "language": "python",
   "name": "python3"
  },
  "language_info": {
   "codemirror_mode": {
    "name": "ipython",
    "version": 3
   },
   "file_extension": ".py",
   "mimetype": "text/x-python",
   "name": "python",
   "nbconvert_exporter": "python",
   "pygments_lexer": "ipython3",
   "version": "3.7.3"
  },
  "orig_nbformat": 4,
  "vscode": {
   "interpreter": {
    "hash": "31f2aee4e71d21fbe5cf8b01ff0e069b9275f58929596ceb00d14d90e3e16cd6"
   }
  }
 },
 "nbformat": 4,
 "nbformat_minor": 2
}
