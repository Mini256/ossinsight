{
 "cells": [
  {
   "cell_type": "markdown",
   "metadata": {},
   "source": [
    "### Setup\n",
    "\n",
    "Welcome to the OSS Insight setup guide.\n",
    "\n",
    "This guide will help you setup your environment to use OSS Insight."
   ]
  },
  {
   "cell_type": "markdown",
   "metadata": {
    "slideshow": {
     "slide_type": "slide"
    }
   },
   "source": [
    "#### Prerequisites\n",
    "\n",
    "Before you begin, you need to have the following installed:\n",
    "\n",
    "- TiDB Cluster - Database to store the data\n",
    "  MyCLI - Connect to the TiDB Cluster\n",
    "- Node.js 18.x and above - API server runtime\n",
    "- PNPM - Package manager for Node.js\n",
    "- Python 3.x and pip - For jupyter notebook\n",
    "\n",
    "##### 1. Startup TiDB Cluster\n",
    "\n",
    "First of all, you need to startup a TiDB cluster. You can startup a local cluster for testing by [TiUP Playground](https://docs.pingcap.com/tidb/dev/tiup-playground#tiup-playground-overview). But in this time, we recommend that you start a **serverless tier** cluster using TiDB Cloud, please click [here](https://docs.pingcap.com/tidbcloud/tidb-cloud-quickstart#step-1-create-a-tidb-cluster) to learn how to startup a serverless tier cluster.\n",
    "\n",
    "If you already have a TiDB cluster that you can connect to, you can ignore this step.\n",
    "\n",
    "##### 2. Prepare database connection information\n",
    "\n",
    "<center>\n",
    "  <img align=\"middle\" width=\"800\" alt=\"Serverless Tier Cluster Manage Interface\" src=\"https://user-images.githubusercontent.com/5086433/204476069-0ddbdf6f-419c-4291-b929-ccfbd2f5ea5f.png\">\n",
    "</center>\n",
    "\n",
    "You can get the following information on the interface.\n",
    "\n",
    "##### 3. Prepare your GitHub access token\n",
    "\n",
    "You need to prepare a personal access token to allow the application to access the data through the GitHub API.\n",
    "\n",
    "> **Note**\n",
    ">\n",
    "> If you are viewing this document from GitHub codespace, you can skip this step because `GITHUB_TOKEN` is set by default in the codespace environment.\n",
    "> \n",
    "\n",
    "Creating a persYou can learn how to generate one by reading: [Creating a personal access token](https://docs.github.com/en/authentication/keeping-your-account-and-data-secure/creating-a-personal-access-token). Or just click this [link](https://github.com/settings/personal-access-tokens/new) to generate your personal access token quickly.\n",
    "\n",
    "<center>\n",
    "  <img align=\"middle\" width=\"800\" alt=\"Create a new GitHub personal accesst token\" src=\"https://user-images.githubusercontent.com/5086433/204564273-93cccbe4-d10a-4d1b-a9d1-112a1144712a.png\">\n",
    "</center>"
   ]
  },
  {
   "cell_type": "markdown",
   "metadata": {},
   "source": [
    "##### 4. Setup the environment variables\n",
    "\n",
    "Execute the following python code, which is written to guide you in setting the required environment variables:"
   ]
  },
  {
   "cell_type": "code",
   "execution_count": 31,
   "metadata": {},
   "outputs": [
    {
     "name": "stdout",
     "output_type": "stream",
     "text": [
      "Setup successfully!\n"
     ]
    }
   ],
   "source": [
    "import getpass\n",
    "import os\n",
    "\n",
    "api_server_dot_env=\"./packages/api-server/.env\"\n",
    "if os.path.exists(api_server_dot_env): \n",
    "    con = input(api_server_dot_env + \" file already exists, do you want to overwrite it? (y/n)\")\n",
    "    exit()\n",
    "\n",
    "# Config GitHub personal access token.\n",
    "github_token = \"\"\n",
    "if os.getenv('GITHUB_TOKEN1') is None:\n",
    "    github_token = getpass.getpass(prompt='Enter your personal access token of GitHub: ')\n",
    "else:\n",
    "    github_token = os.getenv('GITHUB_TOKEN')\n",
    "\n",
    "# Config database connection.\n",
    "db_endpoint = input(\"The endpoint of TiDB cluster: \")\n",
    "db_port = input(\"The port of TiDB cluster [4000]: \")\n",
    "\n",
    "if db_port == \"\":\n",
    "    db_port = 4000\n",
    "else:\n",
    "    db_port = int(db_port)\n",
    "\n",
    "db_username = input(\"The username of TiDB cluster: \")\n",
    "db_password = getpass.getpass(prompt='Enter the password of TiDB cluster: ')\n",
    "db_name = \"ossinsight\"\n",
    "\n",
    "db_enable_ssl = input(\"Enable ssl connection to the TiDB cluster? (y/n)\")\n",
    "db_ssl_config=\"\"\n",
    "if db_enable_ssl == \"y\":\n",
    "    db_ssl_config='&{\"minVersion\":\"TLSv1.2\"}'\n",
    "\n",
    "# Setup system environment variables.\n",
    "os.environ['GITHUB_TOKEN'] = github_token\n",
    "os.environ['DB_ENDPOINT'] = db_endpoint\n",
    "os.environ['DB_PORT'] = str(db_port)\n",
    "os.environ['DB_USERNAME'] = db_username\n",
    "os.environ['DB_PASSWORD'] = db_password\n",
    "os.environ['DB_NAME'] = db_name\n",
    "os.environ['DB_ENABLE_SSL'] = db_enable_ssl\n",
    "\n",
    "# Write to ./packages/api-server/.env file.\n",
    "with open(api_server_dot_env, \"w\") as file:\n",
    "    file.write(\n",
    "        \"DATABASE_URL=mysql://{}:{}@{}:{}/{}?connectionLimit=100&queueLimit=10000{}\\n\".format(\n",
    "            db_username, db_password, db_endpoint, db_port, db_name, db_ssl_config\n",
    "        )\n",
    "    )\n",
    "    file.write(\"ENABLE_CACHE=false\\n\")\n",
    "    file.write(\"GITHUB_ACCESS_TOKEN={}\\n\".format(github_token))\n",
    "\n",
    "print(\"Setup successfully!\")"
   ]
  },
  {
   "cell_type": "code",
   "execution_count": 13,
   "metadata": {
    "vscode": {
     "languageId": "shellscript"
    }
   },
   "outputs": [
    {
     "data": {
      "text/plain": [
       "['(2003, \"Can\\'t connect to MySQL server on \\'localhost\\' ([Errno 111] Connection refused)\")']"
      ]
     },
     "execution_count": 13,
     "metadata": {},
     "output_type": "execute_result"
    }
   ],
   "source": [
    "%%!\n",
    "mycli -u $DB_PASSWORD -h $DB_ENDPOINT -P 4000 -D test --ssl-ca=/etc/ssl/certs/ca-certificates.crt --ssl-verify-server-cert"
   ]
  },
  {
   "cell_type": "code",
   "execution_count": null,
   "metadata": {
    "vscode": {
     "languageId": "shellscript"
    }
   },
   "outputs": [],
   "source": [
    "%%!\n",
    "curl -s \\\n",
    "  -H \"Accept: application/vnd.github.v3+json\" \\\n",
    "  -H \"Authorization: token $GITHUB_TOKEN\" \\\n",
    "  https://api.github.com/events"
   ]
  }
 ],
 "metadata": {
  "kernelspec": {
   "display_name": "Python 3.7.3 64-bit",
   "language": "python",
   "name": "python3"
  },
  "language_info": {
   "codemirror_mode": {
    "name": "ipython",
    "version": 3
   },
   "file_extension": ".py",
   "mimetype": "text/x-python",
   "name": "python",
   "nbconvert_exporter": "python",
   "pygments_lexer": "ipython3",
   "version": "3.7.3"
  },
  "orig_nbformat": 4,
  "vscode": {
   "interpreter": {
    "hash": "31f2aee4e71d21fbe5cf8b01ff0e069b9275f58929596ceb00d14d90e3e16cd6"
   }
  }
 },
 "nbformat": 4,
 "nbformat_minor": 2
}
